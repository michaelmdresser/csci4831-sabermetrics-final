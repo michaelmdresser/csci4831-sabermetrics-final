{
 "cells": [
  {
   "cell_type": "code",
   "execution_count": 1,
   "metadata": {},
   "outputs": [],
   "source": [
    "import pandas as pd"
   ]
  },
  {
   "cell_type": "code",
   "execution_count": 2,
   "metadata": {},
   "outputs": [],
   "source": [
    "statcast = pd.read_csv(\"data/pitches_2016_2018.csv\")"
   ]
  },
  {
   "cell_type": "code",
   "execution_count": 4,
   "metadata": {},
   "outputs": [],
   "source": [
    "statcast = statcast.loc[(statcast[\"game_date\"] < \"2019-01-01\") & (statcast[\"game_date\"] > \"2018-01-01\")]"
   ]
  },
  {
   "cell_type": "code",
   "execution_count": 6,
   "metadata": {},
   "outputs": [],
   "source": [
    "def get_obp_series(df):\n",
    "    return (df[\"H\"] + df[\"BB\"] + df[\"HBP\"]) / (df[\"AB\"] + df[\"BB\"] + df[\"HBP\"] + df[\"SF\"])\n",
    "\n",
    "def get_slg_series(df):\n",
    "    singles = df[\"H\"] - df[\"HR\"] - df[\"2B\"] - df[\"3B\"]\n",
    "    return (singles + 2*df[\"2B\"] + 3*df[\"3B\"] + 4*df[\"HR\"]) / df[\"AB\"]\n",
    "\n",
    "def get_ops_series(df):\n",
    "    return get_obp_series(df) + get_slg_series(df)\n",
    "\n",
    "def get_avg_series(df):\n",
    "    return (df[\"H\"]) / (df[\"AB\"])"
   ]
  },
  {
   "cell_type": "code",
   "execution_count": 26,
   "metadata": {},
   "outputs": [],
   "source": [
    "def get_pca5_series_pitcher(df):\n",
    "    pab = df.groupby([\"pitcher\", \"game_date\", \"batter\", \"inning\"]).size()\n",
    "    return pab.loc[pab > 5].to_frame().reset_index().groupby(\"pitcher\").size()"
   ]
  },
  {
   "cell_type": "code",
   "execution_count": 65,
   "metadata": {},
   "outputs": [],
   "source": [
    "def get_pca5_series_batter(df):\n",
    "    bab = df.groupby([\"batter\", \"game_date\", \"inning\"]).size()\n",
    "    return bab.loc[bab > 5].to_frame().reset_index().groupby(\"batter\").size()"
   ]
  },
  {
   "cell_type": "code",
   "execution_count": 60,
   "metadata": {},
   "outputs": [],
   "source": [
    "def get_bf(df):\n",
    "    return df.loc[df[\"events\"].notna()].groupby([\"pitcher\"]).size()"
   ]
  },
  {
   "cell_type": "code",
   "execution_count": 51,
   "metadata": {},
   "outputs": [],
   "source": [
    "# returns tuple (release_speed_mean, effective_speed_mean, pfx_x_mean, pfx_z_mean)\n",
    "def get_movement_series(df):\n",
    "    d = df.groupby(\"pitcher\").agg({\"release_speed\": \"mean\",\n",
    "                                 \"effective_speed\": \"mean\",\n",
    "                                 \"pfx_x\": \"mean\", \n",
    "                                 \"pfx_z\": \"mean\"}).abs().rename(index=str, columns={\"release_speed\": \"release_speed_mean\",\n",
    "                                                                 \"effective_speed\": \"effective_speed_mean\",\n",
    "                                                                 \"pfx_x\": \"pfx_x_mean\",\n",
    "                                                                 \"pfx_z\": \"pfx_z_mean\"})\n",
    "    return (d[\"release_speed_mean\"], d[\"effective_speed_mean\"], d[\"pfx_x_mean\"], d[\"pfx_z_mean\"])"
   ]
  },
  {
   "cell_type": "code",
   "execution_count": 77,
   "metadata": {},
   "outputs": [],
   "source": [
    "def get_event_series_pitcher(df, event):\n",
    "    return df.loc[(df[\"events\"] == event)].groupby(\"pitcher\").size()\n",
    "\n",
    "def get_event_series_batter(df, event):\n",
    "    return df.loc[(df[\"events\"] == event)].groupby(\"batter\").size()"
   ]
  },
  {
   "cell_type": "code",
   "execution_count": 91,
   "metadata": {},
   "outputs": [],
   "source": [
    "# this only estimates ip, it is not perfect\n",
    "def get_ip_series(df):\n",
    "    return df.groupby([\"pitcher\", \"game_date\"])[\"inning\"].nunique().to_frame().reset_index().groupby(\"pitcher\")[\"inning\"].sum()"
   ]
  },
  {
   "cell_type": "code",
   "execution_count": 99,
   "metadata": {},
   "outputs": [],
   "source": [
    "def get_whip_series(df):\n",
    "    walks = df.loc[(df[\"events\"] == \"walk\")].groupby(\"pitcher\").size()\n",
    "    hits = df.loc[(df[\"events\"] == \"single\") |\n",
    "                        (df[\"events\"] == \"double\") |\n",
    "                        (df[\"events\"] == \"triple\") |\n",
    "                        (df[\"events\"] == \"home_run\")].groupby(\"pitcher\").size()\n",
    "    stuff = pd.concat([get_ip_series(df), walks, hits], keys=[\"ip\", \"walks\", \"hits\"], axis=1)\n",
    "    return (stuff[\"walks\"] + stuff[\"hits\"]) / stuff[\"ip\"]"
   ]
  },
  {
   "cell_type": "code",
   "execution_count": 67,
   "metadata": {},
   "outputs": [],
   "source": [
    "def remove_infreq_pitchers(df):\n",
    "    bf = get_bf(df)\n",
    "    bf.loc[bf > 70].index\n",
    "\n",
    "    return df.loc[(df[\"pitcher\"].isin(bf.loc[bf > 70].index))]"
   ]
  },
  {
   "cell_type": "code",
   "execution_count": 141,
   "metadata": {},
   "outputs": [],
   "source": [
    "def make_pitcher_df(df):\n",
    "    df = remove_infreq_pitchers(df)\n",
    "    _, avg_speed, avg_x, avg_z = get_movement_series(statcast_p)\n",
    "    return pd.concat([get_event_series_pitcher(df, \"strikeout\"),\n",
    "                      get_event_series_pitcher(df, \"home_run\"),\n",
    "                      get_event_series_pitcher(df, \"walk\"), # I don't think we can do IBB\n",
    "                      get_pca5_series_pitcher(df),\n",
    "                      get_bf(df),\n",
    "                      get_whip_series(df),\n",
    "                      avg_speed,\n",
    "                      avg_x,\n",
    "                      avg_z\n",
    "                     ],\n",
    "                     keys=[\"SO\", \"HR\", \"BB\", \"PCA5\", \"BF\", \"WHIP\", \"avg_speed\", \"avg_x\", \"avg_z\"],\n",
    "                     axis=1)\n",
    "\n",
    "def make_efp_series(pitcher_df):\n",
    "    df = pitcher_df\n",
    "    # WE DON'T HAVE IBB, only BB\n",
    "    return (1.0*df[\"SO\"] - (0.5*df[\"PCA5\"] + 3.0*df[\"HR\"] + 3.0*df[\"BB\"])) / df[\"BF\"] - \\\n",
    "            1.0*df[\"WHIP\"] + 0.1*df[\"avg_z\"] + 0.1*df[\"avg_x\"] + 0.3*df[\"avg_speed\"]"
   ]
  },
  {
   "cell_type": "code",
   "execution_count": 132,
   "metadata": {},
   "outputs": [],
   "source": [
    "#make_efp_series(make_pitcher_df(statcast)).sort_values(ascending=False)"
   ]
  },
  {
   "cell_type": "code",
   "execution_count": 154,
   "metadata": {},
   "outputs": [],
   "source": [
    "from pybaseball import batting_stats, batting_stats_bref"
   ]
  },
  {
   "cell_type": "code",
   "execution_count": 155,
   "metadata": {},
   "outputs": [],
   "source": [
    "b = batting_stats(2018)"
   ]
  },
  {
   "cell_type": "code",
   "execution_count": 296,
   "metadata": {},
   "outputs": [
    {
     "name": "stdout",
     "output_type": "stream",
     "text": [
      "Gathering player lookup table. This may take a moment.\n"
     ]
    },
    {
     "data": {
      "text/html": [
       "<div>\n",
       "<style scoped>\n",
       "    .dataframe tbody tr th:only-of-type {\n",
       "        vertical-align: middle;\n",
       "    }\n",
       "\n",
       "    .dataframe tbody tr th {\n",
       "        vertical-align: top;\n",
       "    }\n",
       "\n",
       "    .dataframe thead th {\n",
       "        text-align: right;\n",
       "    }\n",
       "</style>\n",
       "<table border=\"1\" class=\"dataframe\">\n",
       "  <thead>\n",
       "    <tr style=\"text-align: right;\">\n",
       "      <th></th>\n",
       "      <th>name_last</th>\n",
       "      <th>name_first</th>\n",
       "      <th>key_mlbam</th>\n",
       "      <th>key_retro</th>\n",
       "      <th>key_bbref</th>\n",
       "      <th>key_fangraphs</th>\n",
       "      <th>mlb_played_first</th>\n",
       "      <th>mlb_played_last</th>\n",
       "    </tr>\n",
       "  </thead>\n",
       "  <tbody>\n",
       "    <tr>\n",
       "      <th>6</th>\n",
       "      <td>ramirez</td>\n",
       "      <td>jose</td>\n",
       "      <td>542432</td>\n",
       "      <td>ramij004</td>\n",
       "      <td>ramirjo02</td>\n",
       "      <td>10171</td>\n",
       "      <td>2014.0</td>\n",
       "      <td>2018.0</td>\n",
       "    </tr>\n",
       "    <tr>\n",
       "      <th>15</th>\n",
       "      <td>ramirez</td>\n",
       "      <td>jose</td>\n",
       "      <td>608070</td>\n",
       "      <td>ramij003</td>\n",
       "      <td>ramirjo01</td>\n",
       "      <td>13510</td>\n",
       "      <td>2013.0</td>\n",
       "      <td>2019.0</td>\n",
       "    </tr>\n",
       "  </tbody>\n",
       "</table>\n",
       "</div>"
      ],
      "text/plain": [
       "   name_last name_first  key_mlbam key_retro  key_bbref  key_fangraphs  \\\n",
       "6    ramirez       jose     542432  ramij004  ramirjo02          10171   \n",
       "15   ramirez       jose     608070  ramij003  ramirjo01          13510   \n",
       "\n",
       "    mlb_played_first  mlb_played_last  \n",
       "6             2014.0           2018.0  \n",
       "15            2013.0           2019.0  "
      ]
     },
     "execution_count": 296,
     "metadata": {},
     "output_type": "execute_result"
    }
   ],
   "source": [
    "playerid_lookup(\"ramirez\", \"jose\").dropna()"
   ]
  },
  {
   "cell_type": "code",
   "execution_count": 289,
   "metadata": {},
   "outputs": [],
   "source": [
    "# https://github.com/jldbc/pybaseball/pull/49/files\n",
    "# customized because this data is awful\n",
    "def batch_playerid_lookup(names, year=None):\n",
    "    \"\"\"\n",
    "    Gets player id's for a list of player names.\n",
    "     names : list : List of names to look up in format [[last, first], [last1, first1], [last2, first2]]\n",
    "    return : DataFrame : DataFrame containing a row for each requested player.\n",
    "    \"\"\"\n",
    "    from pybaseball.playerid_lookup import get_lookup_table\n",
    "    table = get_lookup_table()\n",
    "\n",
    "    player_ids = []\n",
    "    for name in names:\n",
    "        last = name[0].lower()\n",
    "        if name[1]:\n",
    "            first = name[1].lower()\n",
    "\n",
    "        if first is None:\n",
    "            if year is not None:\n",
    "                results = table.loc[(table['name_last'] == last) &\n",
    "                                    (table['mlb_played_first'] <= year) &\n",
    "                                    (table['mlb_played_last'] >= year)]\n",
    "            else:\n",
    "                results = table.loc[table['name_last'] == last]\n",
    "        else:\n",
    "            if year is not None:\n",
    "                results = table.loc[(table['name_last'] == last) & (table['name_first'] == first) &\n",
    "                                    (table['mlb_played_first'] <= year) &\n",
    "                                    (table['mlb_played_last'] >= year)]\n",
    "            else:\n",
    "                results = results = table.loc[(table['name_last'] == last) & (table['name_first'] == first)]\n",
    "            \n",
    "            iterations = 0\n",
    "            while len(results) == 0 and iterations < 10:\n",
    "                iterations += 1\n",
    "                if 'jr.' in last:\n",
    "                    last = last.replace('jr.', '').strip()\n",
    "                elif 'jr' in last:\n",
    "                    last = last.replace('jr', '').strip()\n",
    "                elif '.' in first and ' ' in first:\n",
    "                    first = first.replace(' ', '').replace('.', '')\n",
    "                elif '.' in first:\n",
    "                    first = first[:first.index('.') + 1] + ' ' + first[first.index('.') + 1:]\n",
    "                elif first == 'nicholas':\n",
    "                    first = 'nick'\n",
    "                elif first == 'yolmer' and last == 'sanchez':\n",
    "                    first = 'carlos'\n",
    "                elif first == 'raffy' and last == 'lopez':\n",
    "                    first = 'rafael'\n",
    "                elif last == 'ervin':\n",
    "                    first = 'phil'\n",
    "                elif last == 'wheeler' and first == 'zack':\n",
    "                    first = 'zach'\n",
    "                elif last == 'joyce' and first == 'matt':\n",
    "                    first = 'matthew'\n",
    "                elif last == 'vogelbach' and first == 'daniel':\n",
    "                    first = 'dan'\n",
    "                elif last == 'kang':\n",
    "                    first = 'jung ho'\n",
    "                elif last == 'urshela':\n",
    "                    first = 'gio'\n",
    "                elif last == 'poncedeleon':\n",
    "                    last = 'ponce de leon'\n",
    "                elif last == 'bowman' and first == 'matt':\n",
    "                    first = 'matthew'\n",
    "                elif last == 'chargois':\n",
    "                    first = 'j. t.'\n",
    "                elif last == 'boyd' and first == 'matthew':\n",
    "                    first = 'matt'\n",
    "                elif last == 'gosselin' and first == 'phil':\n",
    "                    first = 'philip'\n",
    "                elif last == 'guerra' and first == 'javier':\n",
    "                    first = 'javy'\n",
    "                elif last == 'delmonico' and first == 'nicky':\n",
    "                    first = 'nick'\n",
    "                elif last == 'wilkerson' and first == 'steve':\n",
    "                    first = 'stevie'\n",
    "                elif first == 'john' and last == 'ryan murphy':\n",
    "                    first = 'j. r.'\n",
    "                    last = 'murphy'\n",
    "                else:\n",
    "                    for name_bit in last.split(' '):\n",
    "                        if len(name_bit) <= 3:\n",
    "                            last = last.replace(name_bit, '').strip()\n",
    "                \n",
    "                if year is not None:\n",
    "                    results = table.loc[(table['name_last'] == last) & (table['name_first'] == first) &\n",
    "                                        (table['mlb_played_first'] <= year) &\n",
    "                                        (table['mlb_played_last'] >= year)]\n",
    "                else:\n",
    "                    results = results = table.loc[(table['name_last'] == last) &\n",
    "                                                  (table['name_first'] == first)]\n",
    "                \n",
    "            if iterations >= 10:\n",
    "                results = pd.DataFrame([[\n",
    "                    last,\n",
    "                    first,\n",
    "                    -1,\n",
    "                    'fail001',\n",
    "                    'fail01',\n",
    "                    -1,\n",
    "                    -1,\n",
    "                    -1\n",
    "                ]], columns=[\n",
    "                    'name_last', \n",
    "                     'name_first', \n",
    "                     'key_mlbam', \n",
    "                     'key_retro', \n",
    "                     'key_bbref', \n",
    "                     'key_fangraphs',\n",
    "                     'mlb_played_first',\n",
    "                     'mlb_played_last'])\n",
    "\n",
    "\n",
    "        results = results.reset_index().drop('index', 1)\n",
    "        player_ids.append(results)\n",
    "\n",
    "    df = pd.DataFrame(columns=player_ids[0].columns)\n",
    "    for id in player_ids:\n",
    "        df = pd.concat([df, id])\n",
    "    return df.reset_index(drop=True)"
   ]
  },
  {
   "cell_type": "code",
   "execution_count": 290,
   "metadata": {
    "scrolled": true
   },
   "outputs": [
    {
     "name": "stdout",
     "output_type": "stream",
     "text": [
      "Gathering player lookup table. This may take a moment.\n"
     ]
    }
   ],
   "source": [
    "def make_last_first_list(name):\n",
    "    s = name.split(' ')\n",
    "    return ' '.join(s[1:]), s[0]\n",
    "\n",
    "bpl = batch_playerid_lookup(b[\"Name\"].apply(make_last_first_list), year=2018).dropna()"
   ]
  },
  {
   "cell_type": "code",
   "execution_count": 310,
   "metadata": {},
   "outputs": [
    {
     "name": "stdout",
     "output_type": "stream",
     "text": [
      "Gathering player lookup table. This may take a moment.\n"
     ]
    }
   ],
   "source": [
    "from pybaseball.playerid_lookup import get_lookup_table\n",
    "lookup_table = get_lookup_table()\n",
    "\n",
    "def playerid_lookup(last, first=None, year=None):\n",
    "    # force input strings to lowercase\n",
    "    last = last.lower()\n",
    "    if first:\n",
    "        first = first.lower()\n",
    "    table = lookup_table\n",
    "    \n",
    "    if first is None:\n",
    "        if year is not None:\n",
    "            results = table.loc[(table['name_last'] == last) &\n",
    "                                (table['mlb_played_first'] <= year) &\n",
    "                                (table['mlb_played_last'] >= year)]\n",
    "        else:\n",
    "            results = table.loc[table['name_last'] == last]\n",
    "    else:\n",
    "        if year is not None:\n",
    "            results = table.loc[(table['name_last'] == last) & (table['name_first'] == first) &\n",
    "                                (table['mlb_played_first'] <= year) &\n",
    "                                (table['mlb_played_last'] >= year)]\n",
    "        else:\n",
    "            results = results = table.loc[(table['name_last'] == last) & (table['name_first'] == first)]\n",
    "\n",
    "        iterations = 0\n",
    "        while len(results) == 0 and iterations < 10:\n",
    "            iterations += 1\n",
    "            if 'jr.' in last:\n",
    "                last = last.replace('jr.', '').strip()\n",
    "            elif 'jr' in last:\n",
    "                last = last.replace('jr', '').strip()\n",
    "            elif '.' in first and ' ' in first:\n",
    "                first = first.replace(' ', '').replace('.', '')\n",
    "            elif '.' in first:\n",
    "                first = first[:first.index('.') + 1] + ' ' + first[first.index('.') + 1:]\n",
    "            elif first == 'nicholas':\n",
    "                first = 'nick'\n",
    "            elif first == 'yolmer' and last == 'sanchez':\n",
    "                first = 'carlos'\n",
    "            elif first == 'raffy' and last == 'lopez':\n",
    "                first = 'rafael'\n",
    "            elif last == 'ervin':\n",
    "                first = 'phil'\n",
    "            elif last == 'wheeler' and first == 'zack':\n",
    "                first = 'zach'\n",
    "            elif last == 'joyce' and first == 'matt':\n",
    "                first = 'matthew'\n",
    "            elif last == 'vogelbach' and first == 'daniel':\n",
    "                first = 'dan'\n",
    "            elif last == 'kang':\n",
    "                first = 'jung ho'\n",
    "            elif last == 'urshela':\n",
    "                first = 'gio'\n",
    "            elif last == 'poncedeleon':\n",
    "                last = 'ponce de leon'\n",
    "            elif last == 'bowman' and first == 'matt':\n",
    "                first = 'matthew'\n",
    "            elif last == 'chargois':\n",
    "                first = 'j. t.'\n",
    "            elif last == 'boyd' and first == 'matthew':\n",
    "                first = 'matt'\n",
    "            elif last == 'gosselin' and first == 'phil':\n",
    "                first = 'philip'\n",
    "            elif last == 'guerra' and first == 'javier':\n",
    "                first = 'javy'\n",
    "            elif last == 'delmonico' and first == 'nicky':\n",
    "                first = 'nick'\n",
    "            elif last == 'wilkerson' and first == 'steve':\n",
    "                first = 'stevie'\n",
    "            elif first == 'john' and last == 'ryan murphy':\n",
    "                first = 'j. r.'\n",
    "                last = 'murphy'\n",
    "            else:\n",
    "                for name_bit in last.split(' '):\n",
    "                    if len(name_bit) <= 3:\n",
    "                        last = last.replace(name_bit, '').strip()\n",
    "\n",
    "            if year is not None:\n",
    "                results = table.loc[(table['name_last'] == last) & (table['name_first'] == first) &\n",
    "                                    (table['mlb_played_first'] <= year) &\n",
    "                                    (table['mlb_played_last'] >= year)]\n",
    "            else:\n",
    "                results = results = table.loc[(table['name_last'] == last) &\n",
    "                                              (table['name_first'] == first)]\n",
    "    \n",
    "    \n",
    "    #results[['key_mlbam', 'key_fangraphs', 'mlb_played_first', 'mlb_played_last']] = results[['key_mlbam', 'key_fangraphs', 'mlb_played_first', 'mlb_played_last']].astype(int) # originally returned as floats which is wrong\n",
    "    results = results.reset_index().drop('index', 1)\n",
    "    return results\n",
    "\n",
    "def get_mlbam_from_name(last, first=None, year=None):\n",
    "    try:\n",
    "        return playerid_lookup(last, first, year=year).dropna().reset_index(drop=True)[\"key_mlbam\"].iloc[0]\n",
    "    except IndexError as e:\n",
    "        if '.' in first and ' ' in first:\n",
    "            first = first.replace(' ', '').replace('.', '')\n",
    "        elif '.' in first:\n",
    "            first = first[:first.index('.') + 1] + ' ' + first[first.index('.') + 1:]\n",
    "        elif first.lower() == 'nicholas':\n",
    "            first = 'nick'\n",
    "        elif first.lower() == 'yolmer' and last.lower() == 'sanchez':\n",
    "            first = 'carlos'\n",
    "        else:\n",
    "            #raise Exception(\"your name bad: %s, %s\" % (last, first))\n",
    "            print(\"bad name: %s, %s\" % (last, first))\n",
    "            return -1\n",
    "        \n",
    "        return get_mlbam_from_name(last, first)\n",
    "        return playerid_lookup(last, first).dropna().reset_index(drop=True)[\"key_mlbam\"].iloc[0]\n",
    "        # j.d. martinez -> j. d. martinez\n",
    "\n",
    "def add_mlbam_to_fg(df_fg):\n",
    "    def get_last_first(name):\n",
    "        s = name.split(' ')\n",
    "        last, first = ' '.join(s[1:]), s[0]\n",
    "#         if len(last) <= 2 and len(s) > 2:\n",
    "#             last = s[2]\n",
    "        return last, first\n",
    "    \n",
    "    def get_mlbam(name):\n",
    "        last, first = get_last_first(name)\n",
    "        return get_mlbam_from_name(last, first)\n",
    "    \n",
    "    df_fg[\"key_mlbam\"] = df_fg[\"Name\"].apply(get_mlbam)\n",
    "    return df_fg"
   ]
  },
  {
   "cell_type": "code",
   "execution_count": null,
   "metadata": {
    "scrolled": true
   },
   "outputs": [],
   "source": [
    "df_asdf = add_mlbam_to_fg(b)[[\"Season\", \"Name\", \"Team\", \"key_mlbam\"]]"
   ]
  },
  {
   "cell_type": "code",
   "execution_count": null,
   "metadata": {},
   "outputs": [],
   "source": [
    "df_asdf.loc[(df_asdf[\"key_mlbam\"] == -1)]"
   ]
  },
  {
   "cell_type": "code",
   "execution_count": 42,
   "metadata": {},
   "outputs": [],
   "source": [
    "from pybaseball import playerid_lookup, playerid_reverse_lookup"
   ]
  },
  {
   "cell_type": "code",
   "execution_count": 130,
   "metadata": {},
   "outputs": [
    {
     "name": "stdout",
     "output_type": "stream",
     "text": [
      "Gathering player lookup table. This may take a moment.\n"
     ]
    },
    {
     "data": {
      "text/html": [
       "<div>\n",
       "<style scoped>\n",
       "    .dataframe tbody tr th:only-of-type {\n",
       "        vertical-align: middle;\n",
       "    }\n",
       "\n",
       "    .dataframe tbody tr th {\n",
       "        vertical-align: top;\n",
       "    }\n",
       "\n",
       "    .dataframe thead th {\n",
       "        text-align: right;\n",
       "    }\n",
       "</style>\n",
       "<table border=\"1\" class=\"dataframe\">\n",
       "  <thead>\n",
       "    <tr style=\"text-align: right;\">\n",
       "      <th></th>\n",
       "      <th>name_last</th>\n",
       "      <th>name_first</th>\n",
       "      <th>key_mlbam</th>\n",
       "      <th>key_retro</th>\n",
       "      <th>key_bbref</th>\n",
       "      <th>key_fangraphs</th>\n",
       "      <th>mlb_played_first</th>\n",
       "      <th>mlb_played_last</th>\n",
       "    </tr>\n",
       "  </thead>\n",
       "  <tbody>\n",
       "    <tr>\n",
       "      <th>0</th>\n",
       "      <td>hicks</td>\n",
       "      <td>jordan</td>\n",
       "      <td>663855</td>\n",
       "      <td>hickj002</td>\n",
       "      <td>hicksjo03</td>\n",
       "      <td>19618</td>\n",
       "      <td>2018.0</td>\n",
       "      <td>2019.0</td>\n",
       "    </tr>\n",
       "  </tbody>\n",
       "</table>\n",
       "</div>"
      ],
      "text/plain": [
       "  name_last name_first  key_mlbam key_retro  key_bbref  key_fangraphs  \\\n",
       "0     hicks     jordan     663855  hickj002  hicksjo03          19618   \n",
       "\n",
       "   mlb_played_first  mlb_played_last  \n",
       "0            2018.0           2019.0  "
      ]
     },
     "execution_count": 130,
     "metadata": {},
     "output_type": "execute_result"
    }
   ],
   "source": [
    "playerid_reverse_lookup([663855.0], key_type=\"mlbam\")"
   ]
  },
  {
   "cell_type": "code",
   "execution_count": null,
   "metadata": {},
   "outputs": [],
   "source": []
  },
  {
   "cell_type": "code",
   "execution_count": null,
   "metadata": {},
   "outputs": [],
   "source": []
  },
  {
   "cell_type": "code",
   "execution_count": null,
   "metadata": {},
   "outputs": [],
   "source": []
  },
  {
   "cell_type": "code",
   "execution_count": null,
   "metadata": {},
   "outputs": [],
   "source": []
  },
  {
   "cell_type": "code",
   "execution_count": null,
   "metadata": {},
   "outputs": [],
   "source": []
  },
  {
   "cell_type": "code",
   "execution_count": 208,
   "metadata": {},
   "outputs": [
    {
     "data": {
      "text/plain": [
       "Index(['Season', 'Name', 'Team', 'Age', 'G', 'AB', 'PA', 'H', '1B', '2B',\n",
       "       ...\n",
       "       'wSL/C (pi)', 'wXX/C (pi)', 'O-Swing% (pi)', 'Z-Swing% (pi)',\n",
       "       'Swing% (pi)', 'O-Contact% (pi)', 'Z-Contact% (pi)', 'Contact% (pi)',\n",
       "       'Zone% (pi)', 'Pace (pi)'],\n",
       "      dtype='object', length=287)"
      ]
     },
     "execution_count": 208,
     "metadata": {},
     "output_type": "execute_result"
    }
   ],
   "source": [
    "b.columns"
   ]
  },
  {
   "cell_type": "code",
   "execution_count": null,
   "metadata": {},
   "outputs": [],
   "source": []
  },
  {
   "cell_type": "code",
   "execution_count": 209,
   "metadata": {},
   "outputs": [],
   "source": [
    "b_bref = batting_stats_bref(2018)"
   ]
  },
  {
   "cell_type": "code",
   "execution_count": null,
   "metadata": {},
   "outputs": [],
   "source": []
  },
  {
   "cell_type": "code",
   "execution_count": null,
   "metadata": {},
   "outputs": [],
   "source": []
  },
  {
   "cell_type": "code",
   "execution_count": null,
   "metadata": {},
   "outputs": [],
   "source": []
  },
  {
   "cell_type": "code",
   "execution_count": null,
   "metadata": {},
   "outputs": [],
   "source": []
  },
  {
   "cell_type": "code",
   "execution_count": null,
   "metadata": {},
   "outputs": [],
   "source": []
  },
  {
   "cell_type": "code",
   "execution_count": null,
   "metadata": {},
   "outputs": [],
   "source": []
  },
  {
   "cell_type": "code",
   "execution_count": null,
   "metadata": {},
   "outputs": [],
   "source": []
  },
  {
   "cell_type": "code",
   "execution_count": null,
   "metadata": {},
   "outputs": [],
   "source": []
  }
 ],
 "metadata": {
  "kernelspec": {
   "display_name": "Python 3",
   "language": "python",
   "name": "python3"
  },
  "language_info": {
   "codemirror_mode": {
    "name": "ipython",
    "version": 3
   },
   "file_extension": ".py",
   "mimetype": "text/x-python",
   "name": "python",
   "nbconvert_exporter": "python",
   "pygments_lexer": "ipython3",
   "version": "3.7.3"
  }
 },
 "nbformat": 4,
 "nbformat_minor": 2
}
