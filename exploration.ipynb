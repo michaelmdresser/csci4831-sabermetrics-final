{
 "cells": [
  {
   "cell_type": "code",
   "execution_count": 1,
   "metadata": {},
   "outputs": [],
   "source": [
    "import pandas as pd"
   ]
  },
  {
   "cell_type": "code",
   "execution_count": 15,
   "metadata": {},
   "outputs": [],
   "source": [
    "from pybaseball import batting_stats, batting_stats_bref"
   ]
  },
  {
   "cell_type": "code",
   "execution_count": 2,
   "metadata": {},
   "outputs": [],
   "source": [
    "statcast = pd.read_csv(\"data/pitches_2016_2018.csv\")"
   ]
  },
  {
   "cell_type": "code",
   "execution_count": 3,
   "metadata": {},
   "outputs": [],
   "source": [
    "statcast = statcast.loc[(statcast[\"game_date\"] < \"2019-01-01\") & (statcast[\"game_date\"] > \"2018-01-01\")]"
   ]
  },
  {
   "cell_type": "code",
   "execution_count": 16,
   "metadata": {},
   "outputs": [],
   "source": [
    "b = batting_stats(2018)"
   ]
  },
  {
   "cell_type": "code",
   "execution_count": 5,
   "metadata": {},
   "outputs": [],
   "source": [
    "def get_pca5_series_pitcher(df):\n",
    "    pab = df.groupby([\"pitcher\", \"game_date\", \"batter\", \"inning\"]).size()\n",
    "    return pab.loc[pab > 5].to_frame().reset_index().groupby(\"pitcher\").size()"
   ]
  },
  {
   "cell_type": "code",
   "execution_count": 6,
   "metadata": {},
   "outputs": [],
   "source": [
    "def get_pca5_series_batter(df):\n",
    "    bab = df.groupby([\"batter\", \"game_date\", \"inning\"]).size()\n",
    "    return bab.loc[bab > 5].to_frame().reset_index().groupby(\"batter\").size()"
   ]
  },
  {
   "cell_type": "code",
   "execution_count": 7,
   "metadata": {},
   "outputs": [],
   "source": [
    "def get_bf(df):\n",
    "    return df.loc[df[\"events\"].notna()].groupby([\"pitcher\"]).size()"
   ]
  },
  {
   "cell_type": "code",
   "execution_count": 8,
   "metadata": {},
   "outputs": [],
   "source": [
    "# returns tuple (release_speed_mean, effective_speed_mean, pfx_x_mean, pfx_z_mean)\n",
    "def get_movement_series(df):\n",
    "    d = df.groupby(\"pitcher\").agg({\"release_speed\": \"mean\",\n",
    "                                 \"effective_speed\": \"mean\",\n",
    "                                 \"pfx_x\": \"mean\", \n",
    "                                 \"pfx_z\": \"mean\"}).abs().rename(index=str, columns={\"release_speed\": \"release_speed_mean\",\n",
    "                                                                 \"effective_speed\": \"effective_speed_mean\",\n",
    "                                                                 \"pfx_x\": \"pfx_x_mean\",\n",
    "                                                                 \"pfx_z\": \"pfx_z_mean\"})\n",
    "    return (d[\"release_speed_mean\"], d[\"effective_speed_mean\"], d[\"pfx_x_mean\"], d[\"pfx_z_mean\"])"
   ]
  },
  {
   "cell_type": "code",
   "execution_count": 9,
   "metadata": {},
   "outputs": [],
   "source": [
    "def get_event_series_pitcher(df, event):\n",
    "    return df.loc[(df[\"events\"] == event)].groupby(\"pitcher\").size()\n",
    "\n",
    "def get_event_series_batter(df, event):\n",
    "    return df.loc[(df[\"events\"] == event)].groupby(\"batter\").size()"
   ]
  },
  {
   "cell_type": "code",
   "execution_count": 10,
   "metadata": {},
   "outputs": [],
   "source": [
    "# this only estimates ip, it is not perfect\n",
    "def get_ip_series(df):\n",
    "    return df.groupby([\"pitcher\", \"game_date\"])[\"inning\"].nunique().to_frame().reset_index().groupby(\"pitcher\")[\"inning\"].sum()"
   ]
  },
  {
   "cell_type": "code",
   "execution_count": 11,
   "metadata": {},
   "outputs": [],
   "source": [
    "def get_whip_series(df):\n",
    "    walks = df.loc[(df[\"events\"] == \"walk\")].groupby(\"pitcher\").size()\n",
    "    hits = df.loc[(df[\"events\"] == \"single\") |\n",
    "                        (df[\"events\"] == \"double\") |\n",
    "                        (df[\"events\"] == \"triple\") |\n",
    "                        (df[\"events\"] == \"home_run\")].groupby(\"pitcher\").size()\n",
    "    stuff = pd.concat([get_ip_series(df), walks, hits], keys=[\"ip\", \"walks\", \"hits\"], axis=1)\n",
    "    return (stuff[\"walks\"] + stuff[\"hits\"]) / stuff[\"ip\"]"
   ]
  },
  {
   "cell_type": "code",
   "execution_count": 39,
   "metadata": {},
   "outputs": [],
   "source": [
    "def remove_infreq_pitchers(df):\n",
    "    bf = get_bf(df)\n",
    "    bf.loc[bf > 70].index\n",
    "\n",
    "    return df.loc[(df[\"pitcher\"].isin(bf.loc[bf > 70].index))]\n",
    "\n",
    "def make_pitcher_df(df):\n",
    "    df = remove_infreq_pitchers(df)\n",
    "    _, avg_speed, avg_x, avg_z = get_movement_series(df)\n",
    "    return pd.concat([get_event_series_pitcher(df, \"strikeout\"),\n",
    "                      get_event_series_pitcher(df, \"home_run\"),\n",
    "                      get_event_series_pitcher(df, \"walk\"), # I don't think we can do IBB\n",
    "                      get_pca5_series_pitcher(df),\n",
    "                      get_bf(df),\n",
    "                      get_whip_series(df),\n",
    "                      avg_speed,\n",
    "                      avg_x,\n",
    "                      avg_z\n",
    "                     ],\n",
    "                     keys=[\"SO\", \"HR\", \"BB\", \"PCA5\", \"BF\", \"WHIP\", \"avg_speed\", \"avg_x\", \"avg_z\"],\n",
    "                     axis=1)\n",
    "\n",
    "def make_efp_series(pitcher_df):\n",
    "    df = pitcher_df\n",
    "    # WE DON'T HAVE IBB, only BB\n",
    "    return (1.0*df[\"SO\"] - (0.5*df[\"PCA5\"] + 3.0*df[\"HR\"] + 3.0*df[\"BB\"])) / df[\"BF\"] - \\\n",
    "            1.0*df[\"WHIP\"] + 0.1*df[\"avg_z\"] + 0.1*df[\"avg_x\"] + 0.3*df[\"avg_speed\"]"
   ]
  },
  {
   "cell_type": "code",
   "execution_count": 17,
   "metadata": {},
   "outputs": [
    {
     "name": "stdout",
     "output_type": "stream",
     "text": [
      "Gathering player lookup table. This may take a moment.\n"
     ]
    }
   ],
   "source": [
    "from pybaseball.playerid_lookup import get_lookup_table\n",
    "lookup_table = get_lookup_table()\n",
    "\n",
    "def playerid_lookup_c(last, first=None, year=None):\n",
    "    # force input strings to lowercase\n",
    "    last = last.lower()\n",
    "    if first:\n",
    "        first = first.lower()\n",
    "    table = lookup_table\n",
    "    \n",
    "    if first is None:\n",
    "        if year is not None:\n",
    "            results = table.loc[(table['name_last'] == last) &\n",
    "                                (table['mlb_played_first'] <= year) &\n",
    "                                (table['mlb_played_last'] >= year)]\n",
    "        else:\n",
    "            results = table.loc[table['name_last'] == last]\n",
    "    else:\n",
    "        if year is not None:\n",
    "            results = table.loc[(table['name_last'] == last) & (table['name_first'] == first) &\n",
    "                                (table['mlb_played_first'] <= year) &\n",
    "                                (table['mlb_played_last'] >= year)]\n",
    "        else:\n",
    "            results = results = table.loc[(table['name_last'] == last) & (table['name_first'] == first)]\n",
    "\n",
    "        iterations = 0\n",
    "        while len(results) == 0 and iterations < 10:\n",
    "            iterations += 1\n",
    "            if 'jr.' in last:\n",
    "                last = last.replace('jr.', '').strip()\n",
    "            elif 'jr' in last:\n",
    "                last = last.replace('jr', '').strip()\n",
    "            elif '.' in first and ' ' in first:\n",
    "                first = first.replace(' ', '').replace('.', '')\n",
    "            elif '.' in first:\n",
    "                first = first[:first.index('.') + 1] + ' ' + first[first.index('.') + 1:]\n",
    "            elif first == 'nicholas':\n",
    "                first = 'nick'\n",
    "            elif first == 'yolmer' and last == 'sanchez':\n",
    "                first = 'carlos'\n",
    "            elif first == 'raffy' and last == 'lopez':\n",
    "                first = 'rafael'\n",
    "            elif last == 'ervin':\n",
    "                first = 'phil'\n",
    "            elif last == 'wheeler' and first == 'zack':\n",
    "                first = 'zach'\n",
    "            elif last == 'joyce' and first == 'matt':\n",
    "                first = 'matthew'\n",
    "            elif last == 'vogelbach' and first == 'daniel':\n",
    "                first = 'dan'\n",
    "            elif last == 'kang':\n",
    "                first = 'jung ho'\n",
    "            elif last == 'urshela':\n",
    "                first = 'gio'\n",
    "            elif last == 'poncedeleon':\n",
    "                last = 'ponce de leon'\n",
    "            elif last == 'bowman' and first == 'matt':\n",
    "                first = 'matthew'\n",
    "            elif last == 'chargois':\n",
    "                first = 'j. t.'\n",
    "            elif last == 'boyd' and first == 'matthew':\n",
    "                first = 'matt'\n",
    "            elif last == 'gosselin' and first == 'phil':\n",
    "                first = 'philip'\n",
    "            elif last == 'guerra' and first == 'javier':\n",
    "                first = 'javy'\n",
    "            elif last == 'delmonico' and first == 'nicky':\n",
    "                first = 'nick'\n",
    "            elif last == 'wilkerson' and first == 'steve':\n",
    "                first = 'stevie'\n",
    "            elif first == 'john' and last == 'ryan murphy':\n",
    "                first = 'j. r.'\n",
    "                last = 'murphy'\n",
    "            else:\n",
    "                for name_bit in last.split(' '):\n",
    "                    if len(name_bit) <= 3:\n",
    "                        last = last.replace(name_bit, '').strip()\n",
    "\n",
    "            if year is not None:\n",
    "                results = table.loc[(table['name_last'] == last) & (table['name_first'] == first) &\n",
    "                                    (table['mlb_played_first'] <= year) &\n",
    "                                    (table['mlb_played_last'] >= year)]\n",
    "            else:\n",
    "                results = results = table.loc[(table['name_last'] == last) &\n",
    "                                              (table['name_first'] == first)]\n",
    "    \n",
    "    \n",
    "    #results[['key_mlbam', 'key_fangraphs', 'mlb_played_first', 'mlb_played_last']] = results[['key_mlbam', 'key_fangraphs', 'mlb_played_first', 'mlb_played_last']].astype(int) # originally returned as floats which is wrong\n",
    "    results = results.reset_index().drop('index', 1)\n",
    "    return results\n",
    "\n",
    "def get_mlbam_from_name(last, first=None, year=None):\n",
    "    try:\n",
    "        return playerid_lookup_c(last, first, year=year).dropna().reset_index(drop=True)[\"key_mlbam\"].iloc[0]\n",
    "    except IndexError as e:\n",
    "        if '.' in first and ' ' in first:\n",
    "            first = first.replace(' ', '').replace('.', '')\n",
    "        elif '.' in first:\n",
    "            first = first[:first.index('.') + 1] + ' ' + first[first.index('.') + 1:]\n",
    "        elif first.lower() == 'nicholas':\n",
    "            first = 'nick'\n",
    "        elif first.lower() == 'yolmer' and last.lower() == 'sanchez':\n",
    "            first = 'carlos'\n",
    "        else:\n",
    "            #raise Exception(\"your name bad: %s, %s\" % (last, first))\n",
    "            print(\"bad name: %s, %s\" % (last, first))\n",
    "            return -1\n",
    "        \n",
    "        return get_mlbam_from_name(last, first)\n",
    "        return playerid_lookup_c(last, first).dropna().reset_index(drop=True)[\"key_mlbam\"].iloc[0]\n",
    "        # j.d. martinez -> j. d. martinez\n",
    "\n",
    "def add_mlbam_to_fg(df_fg):\n",
    "    def get_last_first(name):\n",
    "        s = name.split(' ')\n",
    "        last, first = ' '.join(s[1:]), s[0]\n",
    "        return last, first\n",
    "    \n",
    "    def get_mlbam(name):\n",
    "        last, first = get_last_first(name)\n",
    "        return get_mlbam_from_name(last, first)\n",
    "    \n",
    "    df_fg[\"key_mlbam\"] = df_fg[\"Name\"].apply(get_mlbam)\n",
    "    return df_fg"
   ]
  },
  {
   "cell_type": "code",
   "execution_count": 54,
   "metadata": {},
   "outputs": [],
   "source": [
    "def remove_infreq_batters(df_fangraphs):\n",
    "    return df_fangraphs.loc[(df_fangraphs[\"AB\"] > 50)]\n",
    "\n",
    "def make_batter_df(df_fangraphs, df_statcast):\n",
    "    df_fg = remove_infreq_batters(df_fangraphs).copy()\n",
    "    df_fg = add_mlbam_to_fg(df_fg)\n",
    "    pca5 = get_pca5_series_batter(df_statcast).rename(\"PCA5\")\n",
    "    df_fg = df_fg.merge(pca5.to_frame(), left_on=\"key_mlbam\", right_on=\"batter\")\n",
    "    df_fg = df_fg.set_index(\"key_mlbam\")\n",
    "    return df_fg\n",
    "\n",
    "def make_efb_series(batter_df):\n",
    "    df = batter_df\n",
    "    return (((1.0 * df[\"HR\"] + 0.8*df[\"3B\"] + 0.5*df[\"2B\"] + 0.2*df[\"1B\"] + 0.5*df[\"SB\"] - \\\n",
    "           (0.4*df[\"SO\"] + 0.2*df[\"BB\"] + 0.2*df[\"PCA5\"])) / df[\"PA\"]) + 2) * 10"
   ]
  },
  {
   "cell_type": "code",
   "execution_count": 55,
   "metadata": {},
   "outputs": [
    {
     "data": {
      "text/plain": [
       "key_mlbam\n",
       "553902    20.680412\n",
       "643446    20.370968\n",
       "606299    20.272328\n",
       "592743    20.270000\n",
       "516416    20.226266\n",
       "645302    20.212121\n",
       "488726    20.206022\n",
       "578428    20.193966\n",
       "501571    20.156250\n",
       "609275    20.147766\n",
       "609280    20.143564\n",
       "493329    20.143106\n",
       "543829    20.130952\n",
       "605141    20.122150\n",
       "544369    20.107206\n",
       "572816    20.084428\n",
       "649557    20.064159\n",
       "596019    20.060403\n",
       "435062    20.056250\n",
       "435559    20.051546\n",
       "502517    20.045584\n",
       "516782    20.044554\n",
       "592518    20.021157\n",
       "593160    20.005658\n",
       "596748    20.000000\n",
       "405395    19.997992\n",
       "592696    19.994932\n",
       "527038    19.983683\n",
       "456488    19.980080\n",
       "607680    19.977860\n",
       "            ...    \n",
       "595284    18.590698\n",
       "592230    18.564516\n",
       "605233    18.558140\n",
       "592680    18.556250\n",
       "593934    18.555184\n",
       "452657    18.553846\n",
       "571945    18.549296\n",
       "518774    18.526316\n",
       "592791    18.523810\n",
       "572204    18.510949\n",
       "446481    18.508671\n",
       "448801    18.498084\n",
       "571578    18.492537\n",
       "621433    18.442177\n",
       "547379    18.419048\n",
       "607257    18.384615\n",
       "488771    18.337838\n",
       "488671    18.196581\n",
       "592685    18.088000\n",
       "500779    18.068966\n",
       "452104    18.016667\n",
       "592351    18.000000\n",
       "543294    17.954545\n",
       "643327    17.784615\n",
       "607536    17.718310\n",
       "605400    17.700000\n",
       "461829    17.654545\n",
       "502706    17.625000\n",
       "467100    17.571429\n",
       "592314    17.500000\n",
       "Length: 513, dtype: float64"
      ]
     },
     "execution_count": 55,
     "metadata": {},
     "output_type": "execute_result"
    }
   ],
   "source": [
    "make_efb_series(make_batter_df(b, statcast)).sort_values(ascending=False)"
   ]
  },
  {
   "cell_type": "code",
   "execution_count": 20,
   "metadata": {},
   "outputs": [],
   "source": [
    "from pybaseball import playerid_lookup, playerid_reverse_lookup"
   ]
  },
  {
   "cell_type": "code",
   "execution_count": 52,
   "metadata": {},
   "outputs": [
    {
     "name": "stdout",
     "output_type": "stream",
     "text": [
      "Gathering player lookup table. This may take a moment.\n"
     ]
    },
    {
     "data": {
      "text/html": [
       "<div>\n",
       "<style scoped>\n",
       "    .dataframe tbody tr th:only-of-type {\n",
       "        vertical-align: middle;\n",
       "    }\n",
       "\n",
       "    .dataframe tbody tr th {\n",
       "        vertical-align: top;\n",
       "    }\n",
       "\n",
       "    .dataframe thead th {\n",
       "        text-align: right;\n",
       "    }\n",
       "</style>\n",
       "<table border=\"1\" class=\"dataframe\">\n",
       "  <thead>\n",
       "    <tr style=\"text-align: right;\">\n",
       "      <th></th>\n",
       "      <th>name_last</th>\n",
       "      <th>name_first</th>\n",
       "      <th>key_mlbam</th>\n",
       "      <th>key_retro</th>\n",
       "      <th>key_bbref</th>\n",
       "      <th>key_fangraphs</th>\n",
       "      <th>mlb_played_first</th>\n",
       "      <th>mlb_played_last</th>\n",
       "    </tr>\n",
       "  </thead>\n",
       "  <tbody>\n",
       "    <tr>\n",
       "      <th>0</th>\n",
       "      <td>astudillo</td>\n",
       "      <td>willians</td>\n",
       "      <td>553902</td>\n",
       "      <td>astuw001</td>\n",
       "      <td>astudwi01</td>\n",
       "      <td>15608</td>\n",
       "      <td>2018.0</td>\n",
       "      <td>2019.0</td>\n",
       "    </tr>\n",
       "  </tbody>\n",
       "</table>\n",
       "</div>"
      ],
      "text/plain": [
       "   name_last name_first  key_mlbam key_retro  key_bbref  key_fangraphs  \\\n",
       "0  astudillo   willians     553902  astuw001  astudwi01          15608   \n",
       "\n",
       "   mlb_played_first  mlb_played_last  \n",
       "0            2018.0           2019.0  "
      ]
     },
     "execution_count": 52,
     "metadata": {},
     "output_type": "execute_result"
    }
   ],
   "source": [
    "playerid_reverse_lookup([553902], key_type=\"mlbam\")"
   ]
  }
 ],
 "metadata": {
  "kernelspec": {
   "display_name": "Python 3",
   "language": "python",
   "name": "python3"
  },
  "language_info": {
   "codemirror_mode": {
    "name": "ipython",
    "version": 3
   },
   "file_extension": ".py",
   "mimetype": "text/x-python",
   "name": "python",
   "nbconvert_exporter": "python",
   "pygments_lexer": "ipython3",
   "version": "3.7.3"
  }
 },
 "nbformat": 4,
 "nbformat_minor": 2
}
