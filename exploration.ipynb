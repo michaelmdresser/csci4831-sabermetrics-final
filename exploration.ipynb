{
 "cells": [
  {
   "cell_type": "code",
   "execution_count": 1,
   "metadata": {},
   "outputs": [],
   "source": [
    "import pandas as pd"
   ]
  },
  {
   "cell_type": "code",
   "execution_count": 2,
   "metadata": {},
   "outputs": [],
   "source": [
    "from pybaseball import batting_stats, batting_stats_bref"
   ]
  },
  {
   "cell_type": "code",
   "execution_count": 3,
   "metadata": {},
   "outputs": [],
   "source": [
    "statcast = pd.read_csv(\"data/pitches_2016_2018.csv\")"
   ]
  },
  {
   "cell_type": "code",
   "execution_count": 4,
   "metadata": {},
   "outputs": [],
   "source": [
    "statcast = statcast.loc[(statcast[\"game_date\"] < \"2019-01-01\") & (statcast[\"game_date\"] > \"2018-01-01\")]"
   ]
  },
  {
   "cell_type": "code",
   "execution_count": 5,
   "metadata": {},
   "outputs": [],
   "source": [
    "b = batting_stats(2018)"
   ]
  },
  {
   "cell_type": "code",
   "execution_count": 6,
   "metadata": {},
   "outputs": [],
   "source": [
    "def get_pca5_series_pitcher(df):\n",
    "    pab = df.groupby([\"pitcher\", \"game_date\", \"batter\", \"inning\"]).size()\n",
    "    return pab.loc[pab > 5].to_frame().reset_index().groupby(\"pitcher\").size()"
   ]
  },
  {
   "cell_type": "code",
   "execution_count": 7,
   "metadata": {},
   "outputs": [],
   "source": [
    "def get_pca5_series_batter(df):\n",
    "    bab = df.groupby([\"batter\", \"game_date\", \"inning\"]).size()\n",
    "    return bab.loc[bab > 5].to_frame().reset_index().groupby(\"batter\").size()"
   ]
  },
  {
   "cell_type": "code",
   "execution_count": 8,
   "metadata": {},
   "outputs": [],
   "source": [
    "def get_bf(df):\n",
    "    return df.loc[df[\"events\"].notna()].groupby([\"pitcher\"]).size()"
   ]
  },
  {
   "cell_type": "code",
   "execution_count": 9,
   "metadata": {},
   "outputs": [],
   "source": [
    "# returns tuple (release_speed_mean, effective_speed_mean, pfx_x_mean, pfx_z_mean)\n",
    "def get_movement_series(df):\n",
    "    d = df.groupby(\"pitcher\").agg({\"release_speed\": \"mean\",\n",
    "                                 \"effective_speed\": \"mean\",\n",
    "                                 \"pfx_x\": \"mean\", \n",
    "                                 \"pfx_z\": \"mean\"}).abs().rename(index=str, columns={\"release_speed\": \"release_speed_mean\",\n",
    "                                                                 \"effective_speed\": \"effective_speed_mean\",\n",
    "                                                                 \"pfx_x\": \"pfx_x_mean\",\n",
    "                                                                 \"pfx_z\": \"pfx_z_mean\"})\n",
    "    return (d[\"release_speed_mean\"], d[\"effective_speed_mean\"], d[\"pfx_x_mean\"], d[\"pfx_z_mean\"])"
   ]
  },
  {
   "cell_type": "code",
   "execution_count": 10,
   "metadata": {},
   "outputs": [],
   "source": [
    "def get_event_series_pitcher(df, event):\n",
    "    return df.loc[(df[\"events\"] == event)].groupby(\"pitcher\").size()\n",
    "\n",
    "def get_event_series_batter(df, event):\n",
    "    return df.loc[(df[\"events\"] == event)].groupby(\"batter\").size()"
   ]
  },
  {
   "cell_type": "code",
   "execution_count": 11,
   "metadata": {},
   "outputs": [],
   "source": [
    "# this only estimates ip, it is not perfect\n",
    "def get_ip_series(df):\n",
    "    return df.groupby([\"pitcher\", \"game_date\"])[\"inning\"].nunique().to_frame().reset_index().groupby(\"pitcher\")[\"inning\"].sum()"
   ]
  },
  {
   "cell_type": "code",
   "execution_count": 12,
   "metadata": {},
   "outputs": [],
   "source": [
    "def get_whip_series(df):\n",
    "    walks = df.loc[(df[\"events\"] == \"walk\")].groupby(\"pitcher\").size()\n",
    "    hits = df.loc[(df[\"events\"] == \"single\") |\n",
    "                        (df[\"events\"] == \"double\") |\n",
    "                        (df[\"events\"] == \"triple\") |\n",
    "                        (df[\"events\"] == \"home_run\")].groupby(\"pitcher\").size()\n",
    "    stuff = pd.concat([get_ip_series(df), walks, hits], keys=[\"ip\", \"walks\", \"hits\"], axis=1)\n",
    "    return (stuff[\"walks\"] + stuff[\"hits\"]) / stuff[\"ip\"]"
   ]
  },
  {
   "cell_type": "code",
   "execution_count": 13,
   "metadata": {},
   "outputs": [],
   "source": [
    "def remove_infreq_pitchers(df):\n",
    "    bf = get_bf(df)\n",
    "    bf.loc[bf > 70].index\n",
    "\n",
    "    return df.loc[(df[\"pitcher\"].isin(bf.loc[bf > 70].index))]\n",
    "\n",
    "def make_pitcher_df(df):\n",
    "    df = remove_infreq_pitchers(df)\n",
    "    _, avg_speed, avg_x, avg_z = get_movement_series(df)\n",
    "    return pd.concat([get_event_series_pitcher(df, \"strikeout\"),\n",
    "                      get_event_series_pitcher(df, \"home_run\"),\n",
    "                      get_event_series_pitcher(df, \"walk\"), # I don't think we can do IBB\n",
    "                      get_pca5_series_pitcher(df),\n",
    "                      get_bf(df),\n",
    "                      get_whip_series(df),\n",
    "                      avg_speed,\n",
    "                      avg_x,\n",
    "                      avg_z\n",
    "                     ],\n",
    "                     keys=[\"SO\", \"HR\", \"BB\", \"PCA5\", \"BF\", \"WHIP\", \"avg_speed\", \"avg_x\", \"avg_z\"],\n",
    "                     axis=1)\n",
    "\n",
    "def make_efp_series(pitcher_df):\n",
    "    df = pitcher_df\n",
    "    # WE DON'T HAVE IBB, only BB\n",
    "    return (1.0*df[\"SO\"] - (0.5*df[\"PCA5\"] + 3.0*df[\"HR\"] + 3.0*df[\"BB\"])) / df[\"BF\"] - \\\n",
    "            1.0*df[\"WHIP\"] + 0.1*df[\"avg_z\"] + 0.1*df[\"avg_x\"] + 0.3*df[\"avg_speed\"]"
   ]
  },
  {
   "cell_type": "code",
   "execution_count": 14,
   "metadata": {},
   "outputs": [
    {
     "name": "stdout",
     "output_type": "stream",
     "text": [
      "Gathering player lookup table. This may take a moment.\n"
     ]
    }
   ],
   "source": [
    "from pybaseball.playerid_lookup import get_lookup_table\n",
    "lookup_table = get_lookup_table()\n",
    "\n",
    "def playerid_lookup_c(last, first=None, year=None):\n",
    "    # force input strings to lowercase\n",
    "    last = last.lower()\n",
    "    if first:\n",
    "        first = first.lower()\n",
    "    table = lookup_table\n",
    "    \n",
    "    if first is None:\n",
    "        if year is not None:\n",
    "            results = table.loc[(table['name_last'] == last) &\n",
    "                                (table['mlb_played_first'] <= year) &\n",
    "                                (table['mlb_played_last'] >= year)]\n",
    "        else:\n",
    "            results = table.loc[table['name_last'] == last]\n",
    "    else:\n",
    "        if year is not None:\n",
    "            results = table.loc[(table['name_last'] == last) & (table['name_first'] == first) &\n",
    "                                (table['mlb_played_first'] <= year) &\n",
    "                                (table['mlb_played_last'] >= year)]\n",
    "        else:\n",
    "            results = results = table.loc[(table['name_last'] == last) & (table['name_first'] == first)]\n",
    "\n",
    "        iterations = 0\n",
    "        while len(results) == 0 and iterations < 10:\n",
    "            iterations += 1\n",
    "            if 'jr.' in last:\n",
    "                last = last.replace('jr.', '').strip()\n",
    "            elif 'jr' in last:\n",
    "                last = last.replace('jr', '').strip()\n",
    "            elif '.' in first and ' ' in first:\n",
    "                first = first.replace(' ', '').replace('.', '')\n",
    "            elif '.' in first:\n",
    "                first = first[:first.index('.') + 1] + ' ' + first[first.index('.') + 1:]\n",
    "            elif first == 'nicholas':\n",
    "                first = 'nick'\n",
    "            elif first == 'yolmer' and last == 'sanchez':\n",
    "                first = 'carlos'\n",
    "            elif first == 'raffy' and last == 'lopez':\n",
    "                first = 'rafael'\n",
    "            elif last == 'ervin':\n",
    "                first = 'phil'\n",
    "            elif last == 'wheeler' and first == 'zack':\n",
    "                first = 'zach'\n",
    "            elif last == 'joyce' and first == 'matt':\n",
    "                first = 'matthew'\n",
    "            elif last == 'vogelbach' and first == 'daniel':\n",
    "                first = 'dan'\n",
    "            elif last == 'kang':\n",
    "                first = 'jung ho'\n",
    "            elif last == 'urshela':\n",
    "                first = 'gio'\n",
    "            elif last == 'poncedeleon':\n",
    "                last = 'ponce de leon'\n",
    "            elif last == 'bowman' and first == 'matt':\n",
    "                first = 'matthew'\n",
    "            elif last == 'chargois':\n",
    "                first = 'j. t.'\n",
    "            elif last == 'boyd' and first == 'matthew':\n",
    "                first = 'matt'\n",
    "            elif last == 'gosselin' and first == 'phil':\n",
    "                first = 'philip'\n",
    "            elif last == 'guerra' and first == 'javier':\n",
    "                first = 'javy'\n",
    "            elif last == 'delmonico' and first == 'nicky':\n",
    "                first = 'nick'\n",
    "            elif last == 'wilkerson' and first == 'steve':\n",
    "                first = 'stevie'\n",
    "            elif first == 'john' and last == 'ryan murphy':\n",
    "                first = 'j. r.'\n",
    "                last = 'murphy'\n",
    "            else:\n",
    "                for name_bit in last.split(' '):\n",
    "                    if len(name_bit) <= 3:\n",
    "                        last = last.replace(name_bit, '').strip()\n",
    "\n",
    "            if year is not None:\n",
    "                results = table.loc[(table['name_last'] == last) & (table['name_first'] == first) &\n",
    "                                    (table['mlb_played_first'] <= year) &\n",
    "                                    (table['mlb_played_last'] >= year)]\n",
    "            else:\n",
    "                results = results = table.loc[(table['name_last'] == last) &\n",
    "                                              (table['name_first'] == first)]\n",
    "    \n",
    "    \n",
    "    #results[['key_mlbam', 'key_fangraphs', 'mlb_played_first', 'mlb_played_last']] = results[['key_mlbam', 'key_fangraphs', 'mlb_played_first', 'mlb_played_last']].astype(int) # originally returned as floats which is wrong\n",
    "    results = results.reset_index().drop('index', 1)\n",
    "    return results\n",
    "\n",
    "def get_mlbam_from_name(last, first=None, year=None):\n",
    "    try:\n",
    "        return playerid_lookup_c(last, first, year=year).dropna().reset_index(drop=True)[\"key_mlbam\"].iloc[0]\n",
    "    except IndexError as e:\n",
    "        if '.' in first and ' ' in first:\n",
    "            first = first.replace(' ', '').replace('.', '')\n",
    "        elif '.' in first:\n",
    "            first = first[:first.index('.') + 1] + ' ' + first[first.index('.') + 1:]\n",
    "        elif first.lower() == 'nicholas':\n",
    "            first = 'nick'\n",
    "        elif first.lower() == 'yolmer' and last.lower() == 'sanchez':\n",
    "            first = 'carlos'\n",
    "        else:\n",
    "            #raise Exception(\"your name bad: %s, %s\" % (last, first))\n",
    "            print(\"bad name: %s, %s\" % (last, first))\n",
    "            return -1\n",
    "        \n",
    "        return get_mlbam_from_name(last, first)\n",
    "        return playerid_lookup_c(last, first).dropna().reset_index(drop=True)[\"key_mlbam\"].iloc[0]\n",
    "        # j.d. martinez -> j. d. martinez\n",
    "\n",
    "def add_mlbam_to_fg(df_fg):\n",
    "    def get_last_first(name):\n",
    "        s = name.split(' ')\n",
    "        last, first = ' '.join(s[1:]), s[0]\n",
    "        return last, first\n",
    "    \n",
    "    def get_mlbam(name):\n",
    "        last, first = get_last_first(name)\n",
    "        return get_mlbam_from_name(last, first)\n",
    "    \n",
    "    df_fg[\"key_mlbam\"] = df_fg[\"Name\"].apply(get_mlbam)\n",
    "    return df_fg"
   ]
  },
  {
   "cell_type": "code",
   "execution_count": 15,
   "metadata": {},
   "outputs": [],
   "source": [
    "def remove_infreq_batters(df_fangraphs):\n",
    "    return df_fangraphs.loc[(df_fangraphs[\"AB\"] > 50)]\n",
    "\n",
    "def make_batter_df(df_fangraphs, df_statcast):\n",
    "    df_fg = remove_infreq_batters(df_fangraphs).copy()\n",
    "    df_fg = add_mlbam_to_fg(df_fg)\n",
    "    pca5 = get_pca5_series_batter(df_statcast).rename(\"PCA5\")\n",
    "    df_fg = df_fg.merge(pca5.to_frame(), left_on=\"key_mlbam\", right_on=\"batter\")\n",
    "    df_fg = df_fg.set_index(\"key_mlbam\")\n",
    "    return df_fg\n",
    "\n",
    "def make_efb_series(batter_df):\n",
    "    df = batter_df\n",
    "    return (((1.0 * df[\"HR\"] + 0.8*df[\"3B\"] + 0.5*df[\"2B\"] + 0.2*df[\"1B\"] + 0.5*df[\"SB\"] - \\\n",
    "           (0.4*df[\"SO\"] + 0.2*df[\"BB\"] + 0.2*df[\"PCA5\"])) / df[\"PA\"]) + 2) * 10"
   ]
  },
  {
   "cell_type": "code",
   "execution_count": 16,
   "metadata": {},
   "outputs": [],
   "source": [
    "efb_s = make_efb_series(make_batter_df(b, statcast)).sort_values(ascending=False)"
   ]
  },
  {
   "cell_type": "code",
   "execution_count": 27,
   "metadata": {},
   "outputs": [],
   "source": [
    "b_df = make_batter_df(b, statcast)"
   ]
  },
  {
   "cell_type": "code",
   "execution_count": 42,
   "metadata": {},
   "outputs": [
    {
     "data": {
      "text/plain": [
       "'{\"EFB\":{\"553902\":20.6804123711,\"643446\":20.3709677419,\"606299\":20.2723279649,\"592743\":20.27,\"516416\":20.2262658228,\"645302\":20.2121212121,\"488726\":20.206022187,\"578428\":20.1939655172,\"501571\":20.15625,\"609275\":20.147766323,\"609280\":20.1435643564,\"493329\":20.1431064572,\"543829\":20.130952381,\"605141\":20.1221498371,\"544369\":20.1072056239,\"572816\":20.0844277674,\"649557\":20.064159292,\"596019\":20.0604026846,\"435062\":20.05625,\"435559\":20.0515463918,\"502517\":20.0455840456,\"516782\":20.0445544554,\"592518\":20.0211565585,\"593160\":20.0056577086,\"596748\":20.0,\"405395\":19.9979919679,\"592696\":19.9949324324,\"527038\":19.9836829837,\"456488\":19.9800796813,\"607680\":19.9778597786,\"430945\":19.9738988581,\"622569\":19.9682539683,\"645277\":19.9561403509,\"514888\":19.9465776294,\"542255\":19.9439393939,\"592885\":19.9324116743,\"607345\":19.9304812834,\"595879\":19.9302325581,\"502082\":19.9263157895,\"519203\":19.9203007519,\"543685\":19.9195979899,\"429664\":19.9137931034,\"605412\":19.9132653061,\"466320\":19.8992805755,\"664058\":19.8990228013,\"450314\":19.8865384615,\"425877\":19.8846918489,\"605480\":19.8841911765,\"608324\":19.8822695035,\"518934\":19.8795180723,\"608566\":19.8769230769,\"591720\":19.8725490196,\"506703\":19.8644067797,\"606466\":19.8620689655,\"435079\":19.861423221,\"572039\":19.8595041322,\"571448\":19.8573551263,\"621563\":19.8550458716,\"595777\":19.8535353535,\"444482\":19.832247557,\"596115\":19.824695122,\"500208\":19.8241106719,\"642133\":19.8219178082,\"519058\":19.8125984252,\"591741\":19.8108108108,\"455976\":19.809929078,\"643217\":19.8093797277,\"624428\":19.8011363636,\"593428\":19.7982758621,\"642708\":19.7972972973,\"641645\":19.7972972973,\"400121\":19.7972440945,\"518792\":19.7955010225,\"607208\":19.7945945946,\"624577\":19.7927927928,\"572041\":19.7913043478,\"553869\":19.7906137184,\"622534\":19.7822736031,\"502226\":19.7810650888,\"656185\":19.7800687285,\"500743\":19.7784090909,\"543939\":19.769041769,\"593700\":19.7677419355,\"457759\":19.7676056338,\"592663\":19.7645951036,\"453568\":19.7629310345,\"571595\":19.7581699346,\"516472\":19.7547169811,\"546991\":19.751565762,\"640457\":19.7486910995,\"502481\":19.746835443,\"456715\":19.7467741935,\"547989\":19.7432188065,\"571697\":19.7398119122,\"502110\":19.7395993837,\"467092\":19.7355769231,\"521692\":19.7352941176,\"581527\":19.7328042328,\"542303\":19.7277070064,\"475582\":19.7275541796,\"434658\":19.7268518519,\"446334\":19.72265625,\"444876\":19.7175141243,\"541650\":19.7125748503,\"457763\":19.7120535714,\"643396\":19.7095959596,\"467827\":19.69751693,\"596451\":19.6923076923,\"518692\":19.6859971711,\"641313\":19.6831683168,\"452678\":19.6824324324,\"462101\":19.6799065421,\"592206\":19.6755162242,\"621311\":19.6752767528,\"643393\":19.6677966102,\"592626\":19.6659142212,\"500871\":19.6640253566,\"643376\":19.6631578947,\"452655\":19.6626746507,\"544725\":19.6545454545,\"500874\":19.6508474576,\"543281\":19.6363636364,\"502210\":19.6344969199,\"471865\":19.6329365079,\"570731\":19.630738523,\"605113\":19.6276595745,\"571431\":19.6261127596,\"650490\":19.625,\"516770\":19.6228748068,\"592387\":19.6202290076,\"425844\":19.6197183099,\"600303\":19.6145833333,\"666971\":19.608365019,\"592669\":19.6077097506,\"502143\":19.6063829787,\"518960\":19.6057268722,\"444489\":19.6053412463,\"434670\":19.6051282051,\"571771\":19.6017316017,\"570481\":19.6013986014,\"608385\":19.5988023952,\"592567\":19.5978494624,\"491696\":19.595959596,\"456124\":19.5936073059,\"545361\":19.5921052632,\"461314\":19.5909090909,\"595375\":19.5903614458,\"596146\":19.5875613748,\"545341\":19.5865800866,\"608671\":19.5865633075,\"588751\":19.5856697819,\"660271\":19.583106267,\"134181\":19.58004158,\"622682\":19.5799086758,\"594828\":19.578713969,\"546318\":19.5778894472,\"408236\":19.577540107,\"660670\":19.5770020534,\"592863\":19.5757575758,\"456665\":19.5697211155,\"571745\":19.5695461201,\"463610\":19.5671641791,\"656811\":19.5647058824,\"593871\":19.5645645646,\"641583\":19.5615763547,\"518586\":19.5590062112,\"628338\":19.5548961424,\"445055\":19.5546075085,\"572228\":19.5465838509,\"435622\":19.5460420032,\"570256\":19.5401869159,\"571740\":19.5395683453,\"543877\":19.5390334572,\"592200\":19.5384615385,\"446359\":19.5375494071,\"518902\":19.5342465753,\"621573\":19.5327868852,\"547982\":19.5297450425,\"643603\":19.5274261603,\"642851\":19.5254237288,\"572073\":19.5217391304,\"474568\":19.5206422018,\"500135\":19.5194174757,\"519023\":19.5182481752,\"622666\":19.5152671756,\"543760\":19.5149359886,\"543776\":19.514084507,\"445988\":19.5119617225,\"657077\":19.511627907,\"622168\":19.5106382979,\"594694\":19.5087719298,\"517369\":19.5073995772,\"501981\":19.504587156,\"608369\":19.5043478261,\"646240\":19.5040816327,\"453286\":19.5,\"543068\":19.4982142857,\"408045\":19.4898710866,\"596059\":19.4897196262,\"572122\":19.4857142857,\"543768\":19.4855195911,\"594988\":19.476744186,\"501896\":19.4743589744,\"570560\":19.4743202417,\"594011\":19.4735099338,\"543309\":19.4683544304,\"543807\":19.4677419355,\"576397\":19.4651741294,\"553993\":19.4603960396,\"602922\":19.4579439252,\"541645\":19.4545454545,\"543333\":19.4505169867,\"476704\":19.4485294118,\"458731\":19.4482758621,\"444432\":19.4469273743,\"571788\":19.446866485,\"605508\":19.4462809917,\"527043\":19.4449760766,\"458913\":19.4444444444,\"467055\":19.4444444444,\"467793\":19.4432989691,\"571980\":19.4426229508,\"543401\":19.4425956739,\"553988\":19.4420600858,\"542364\":19.4405594406,\"656305\":19.4399350649,\"641856\":19.4393939394,\"595281\":19.4332425068,\"408234\":19.4331210191,\"608577\":19.4328358209,\"446308\":19.4317343173,\"543063\":19.430976431,\"605119\":19.4298507463,\"656669\":19.427184466,\"623993\":19.4259259259,\"429665\":19.4248704663,\"592192\":19.4136253041,\"608384\":19.4129464286,\"571466\":19.4118773946,\"572008\":19.4110032362,\"519048\":19.4095860566,\"493316\":19.4076433121,\"520471\":19.4039634146,\"434778\":19.4033970276,\"571657\":19.4025974026,\"606115\":19.4016393443,\"591971\":19.4,\"519222\":19.4,\"460576\":19.3995098039,\"605512\":19.3967391304,\"650402\":19.3966942149,\"592348\":19.3963414634,\"501303\":19.393442623,\"460086\":19.3908450704,\"641598\":19.3880597015,\"600524\":19.3869731801,\"475174\":19.3850174216,\"435263\":19.3842592593,\"592325\":19.3822525597,\"571976\":19.3819241983,\"657656\":19.3806818182,\"457727\":19.3802083333,\"547172\":19.3796296296,\"641432\":19.3796296296,\"622194\":19.3793103448,\"656775\":19.3769633508,\"657557\":19.3755102041,\"572821\":19.3734177215,\"641553\":19.3671706263,\"641820\":19.3663522013,\"592178\":19.3654266958,\"595978\":19.3650306748,\"641355\":19.3607594937,\"640447\":19.3603238866,\"446386\":19.3574660633,\"518618\":19.3539019964,\"621020\":19.3527204503,\"608654\":19.3519313305,\"502054\":19.349122807,\"596847\":19.3393665158,\"491676\":19.3392461197,\"452254\":19.3387096774,\"542340\":19.3378640777,\"605421\":19.3375,\"571851\":19.3356643357,\"543228\":19.3333333333,\"656555\":19.3318181818,\"621453\":19.3289473684,\"640461\":19.3273273273,\"542583\":19.3268551237,\"608475\":19.3267326733,\"553882\":19.3229813665,\"543376\":19.3214285714,\"665742\":19.3157894737,\"543305\":19.313253012,\"570799\":19.3125,\"594824\":19.3125,\"455117\":19.3118811881,\"598265\":19.308411215,\"592407\":19.3072289157,\"572365\":19.3,\"460026\":19.2950819672,\"543308\":19.2948717949,\"465041\":19.2945544554,\"572761\":19.29394387,\"489149\":19.2924791086,\"543699\":19.2923076923,\"595956\":19.2898550725,\"572191\":19.2883116883,\"614177\":19.2877192982,\"624407\":19.2876712329,\"458015\":19.2841091493,\"642086\":19.2818791946,\"456078\":19.2817679558,\"593993\":19.28125,\"575929\":19.28125,\"502671\":19.2811594203,\"503556\":19.2807971014,\"543257\":19.2795698925,\"605361\":19.2793296089,\"605170\":19.275,\"518626\":19.2694063927,\"453943\":19.2690677966,\"621514\":19.2638888889,\"542921\":19.2587064677,\"457705\":19.2580645161,\"608365\":19.2580645161,\"664040\":19.2567567568,\"641531\":19.2551546392,\"474832\":19.2543859649,\"594777\":19.2536231884,\"457803\":19.2520775623,\"607776\":19.2476190476,\"664068\":19.2458677686,\"592261\":19.2417302799,\"606192\":19.2351816444,\"624585\":19.233463035,\"475247\":19.2307692308,\"642336\":19.2258064516,\"542979\":19.2247191011,\"400284\":19.2245989305,\"592444\":19.2226980728,\"595909\":19.216828479,\"460269\":19.2121212121,\"621566\":19.2106060606,\"623520\":19.2095238095,\"663656\":19.2083333333,\"664056\":19.206088993,\"572033\":19.2058823529,\"519317\":19.1957446809,\"518735\":19.194980695,\"620446\":19.1851851852,\"621002\":19.1823529412,\"425783\":19.1819548872,\"596144\":19.1794871795,\"596119\":19.1787439614,\"608597\":19.1752336449,\"457708\":19.1745513866,\"448602\":19.1744680851,\"620439\":19.1733333333,\"608700\":19.1732851986,\"435522\":19.1708542714,\"624424\":19.1661442006,\"547180\":19.1611510791,\"624414\":19.1525423729,\"594953\":19.1514476615,\"573135\":19.1510791367,\"547170\":19.1509433962,\"596142\":19.1497326203,\"598284\":19.1486486486,\"621043\":19.1474358974,\"523253\":19.1466346154,\"543484\":19.144,\"607043\":19.1420560748,\"621439\":19.1382978723,\"571970\":19.1351351351,\"607054\":19.1300813008,\"621035\":19.1258278146,\"595885\":19.1189710611,\"514917\":19.115819209,\"621028\":19.1134020619,\"453923\":19.1083743842,\"460077\":19.1043956044,\"641487\":19.1014492754,\"594807\":19.1007025761,\"621446\":19.0985221675,\"543510\":19.0984682713,\"446263\":19.0980926431,\"519346\":19.0971223022,\"605509\":19.0921052632,\"595751\":19.0901856764,\"519306\":19.0845588235,\"543194\":19.0810810811,\"571679\":19.0754716981,\"592273\":19.0697674419,\"641319\":19.0688073394,\"475253\":19.063973064,\"434158\":19.0570719603,\"571506\":19.0558882236,\"614173\":19.0519480519,\"451594\":19.0508982036,\"545350\":19.0468085106,\"642162\":19.045112782,\"642715\":19.0433436533,\"518614\":19.0401891253,\"459964\":19.0365853659,\"545358\":19.036,\"664057\":19.0348837209,\"543302\":19.0344827586,\"607387\":19.0340136054,\"621493\":19.0272108844,\"519299\":19.0265486726,\"642423\":19.0256410256,\"506702\":19.0243055556,\"600474\":19.0234741784,\"501659\":19.0132450331,\"605486\":19.0121580547,\"592122\":19.0111940299,\"488818\":19.01,\"600869\":19.0064620355,\"543543\":19.0039370079,\"641684\":19.0,\"571974\":19.0,\"542208\":19.0,\"519333\":19.0,\"641857\":19.0,\"534606\":18.9944444444,\"641933\":18.9929577465,\"476883\":18.9921259843,\"571718\":18.9888888889,\"571918\":18.9882352941,\"571875\":18.987394958,\"435064\":18.9801324503,\"641343\":18.9793814433,\"656941\":18.9764705882,\"554430\":18.9666666667,\"592450\":18.9638554217,\"452095\":18.9628378378,\"506747\":18.9577464789,\"468504\":18.9558823529,\"593528\":18.9555555556,\"621044\":18.9550561798,\"641525\":18.9516129032,\"455104\":18.9361111111,\"425784\":18.9230769231,\"596129\":18.9215686275,\"570267\":18.914893617,\"571912\":18.9134199134,\"596103\":18.9111111111,\"660162\":18.9015384615,\"621512\":18.9,\"454560\":18.8961748634,\"607430\":18.8955223881,\"608336\":18.8856152513,\"431145\":18.875,\"607468\":18.8707482993,\"605204\":18.8672566372,\"624636\":18.8666666667,\"455139\":18.8615023474,\"449181\":18.8494623656,\"642180\":18.8428571429,\"461865\":18.8320610687,\"501213\":18.8166666667,\"605548\":18.8157894737,\"407812\":18.8,\"572287\":18.7802469136,\"472528\":18.7708333333,\"571437\":18.7649122807,\"571602\":18.7560483871,\"605131\":18.7100840336,\"542908\":18.7042253521,\"622046\":18.6935483871,\"606988\":18.6896551724,\"594798\":18.6621621622,\"605244\":18.6615384615,\"425772\":18.6467889908,\"621559\":18.6417910448,\"664023\":18.6298701299,\"465753\":18.6184210526,\"457706\":18.6133333333,\"608701\":18.6116504854,\"599096\":18.6082474227,\"642082\":18.5923913043,\"595284\":18.5906976744,\"592230\":18.564516129,\"605233\":18.5581395349,\"592680\":18.55625,\"593934\":18.5551839465,\"452657\":18.5538461538,\"571945\":18.5492957746,\"518774\":18.5263157895,\"592791\":18.5238095238,\"572204\":18.5109489051,\"446481\":18.5086705202,\"448801\":18.4980842912,\"571578\":18.4925373134,\"621433\":18.4421768707,\"547379\":18.419047619,\"607257\":18.3846153846,\"488771\":18.3378378378,\"488671\":18.1965811966,\"592685\":18.088,\"500779\":18.0689655172,\"452104\":18.0166666667,\"592351\":18.0,\"543294\":17.9545454545,\"643327\":17.7846153846,\"607536\":17.7183098592,\"605400\":17.7,\"461829\":17.6545454545,\"502706\":17.625,\"467100\":17.5714285714,\"592314\":17.5},\"Name\":{\"553902\":\"Willians Astudillo\",\"643446\":\"Jeff McNeil\",\"606299\":\"Jose Peraza\",\"592743\":\"Andrelton Simmons\",\"516416\":\"Jean Segura\",\"645302\":\"Victor Robles\",\"488726\":\"Michael Brantley\",\"578428\":\"Jose Iglesias\",\"501571\":\"Juan Lagares\",\"609275\":\"Adalberto Mondesi\",\"609280\":\"Miguel Andujar\",\"493329\":\"Yuli Gurriel\",\"543829\":\"Dee Gordon\",\"605141\":\"Mookie Betts\",\"544369\":\"Didi Gregorius\",\"572816\":\"Corey Dickerson\",\"649557\":\"Aledmys Diaz\",\"596019\":\"Francisco Lindor\",\"435062\":\"Howie Kendrick\",\"435559\":\"Kurt Suzuki\",\"502517\":\"Daniel Murphy\",\"516782\":\"Starling Marte\",\"592518\":\"Manny Machado\",\"593160\":\"Whit Merrifield\",\"596748\":\"Maikel Franco\",\"405395\":\"Albert Pujols\",\"592696\":\"Eddie Rosario\",\"527038\":\"Wilmer Flores\",\"456488\":\"Eduardo Nunez\",\"607680\":\"Kevin Pillar\",\"430945\":\"Adam Jones\",\"622569\":\"Pablo Reyes\",\"645277\":\"Ozzie Albies\",\"514888\":\"Jose Altuve\",\"542255\":\"Ender Inciarte\",\"592885\":\"Christian Yelich\",\"607345\":\"Kevan Smith\",\"595879\":\"Javier Baez\",\"502082\":\"Lonnie Chisenhall\",\"519203\":\"Anthony Rizzo\",\"543685\":\"Anthony Rendon\",\"429664\":\"Robinson Cano\",\"605412\":\"Joe Panik\",\"466320\":\"Melky Cabrera\",\"664058\":\"David Fletcher\",\"450314\":\"Ben Zobrist\",\"425877\":\"Yadier Molina\",\"605480\":\"Mallex Smith\",\"608324\":\"Alex Bregman\",\"518934\":\"DJ LeMahieu\",\"608566\":\"German Marquez\",\"591720\":\"Ronald Torreyes\",\"506703\":\"Adrian Sanchez\",\"606466\":\"Ketel Marte\",\"435079\":\"Ian Kinsler\",\"572039\":\"Stephen Piscotty\",\"571448\":\"Nolan Arenado\",\"621563\":\"Joey Wendle\",\"595777\":\"Jurickson Profar\",\"444482\":\"David Peralta\",\"596115\":\"Trevor Story\",\"500208\":\"Yangervis Solarte\",\"642133\":\"Rowdy Tellez\",\"519058\":\"Mike Moustakas\",\"591741\":\"Jose Osuna\",\"455976\":\"Nick Markakis\",\"643217\":\"Andrew Benintendi\",\"624428\":\"Adam Frazier\",\"593428\":\"Xander Bogaerts\",\"642708\":\"Amed Rosario\",\"641645\":\"Luis Guillorme\",\"400121\":\"Victor Martinez\",\"518792\":\"Jason Heyward\",\"607208\":\"Trea Turner\",\"624577\":\"Yasiel Puig\",\"572041\":\"A.J. Pollock\",\"553869\":\"Elias Diaz\",\"622534\":\"Manuel Margot\",\"502226\":\"Craig Gentry\",\"656185\":\"Greg Allen\",\"500743\":\"Miguel Rojas\",\"543939\":\"Kolten Wong\",\"593700\":\"Alen Hanson\",\"457759\":\"Justin Turner\",\"592663\":\"J.T. Realmuto\",\"453568\":\"Charlie Blackmon\",\"571595\":\"Noel Cuevas\",\"516472\":\"Francisco Arcia\",\"546991\":\"Albert Almora Jr.\",\"640457\":\"Austin Meadows\",\"502481\":\"Jarrod Dyson\",\"456715\":\"Lorenzo Cain\",\"547989\":\"Jose Abreu\",\"571697\":\"Scooter Gennett\",\"502110\":\"J.D. Martinez\",\"467092\":\"Wilson Ramos\",\"521692\":\"Salvador Perez\",\"581527\":\"Devon Travis\",\"542303\":\"Marcell Ozuna\",\"475582\":\"Ryan Zimmerman\",\"434658\":\"Rajai Davis\",\"446334\":\"Evan Longoria\",\"444876\":\"Alcides Escobar\",\"541650\":\"Hernan Perez\",\"457763\":\"Buster Posey\",\"643396\":\"Isiah Kiner-Falefa\",\"467827\":\"Gerardo Parra\",\"596451\":\"Roman Quinn\",\"518692\":\"Freddie Freeman\",\"641313\":\"Tim Anderson\",\"452678\":\"Asdrubal Cabrera\",\"462101\":\"Elvis Andrus\",\"592206\":\"Nicholas Castellanos\",\"621311\":\"David Dahl\",\"643393\":\"Tony Kemp\",\"592626\":\"Joc Pederson\",\"500871\":\"Eduardo Escobar\",\"643376\":\"Danny Jansen\",\"452655\":\"Denard Span\",\"544725\":\"Leury Garcia\",\"500874\":\"Jose Martinez\",\"543281\":\"Josh Harrison\",\"502210\":\"Josh Reddick\",\"471865\":\"Carlos Gonzalez\",\"570731\":\"Jonathan Schoop\",\"605113\":\"Nick Ahmed\",\"571431\":\"Matt Adams\",\"650490\":\"Yandy Diaz\",\"516770\":\"Starlin Castro\",\"592387\":\"Ryon Healy\",\"425844\":\"Zack Greinke\",\"600303\":\"Tommy La Stella\",\"666971\":\"Lourdes Gurriel Jr.\",\"592669\":\"Hunter Renfroe\",\"502143\":\"Danny Valencia\",\"518960\":\"Jonathan Lucroy\",\"444489\":\"Manny Pina\",\"434670\":\"Hanley Ramirez\",\"571771\":\"Enrique Hernandez\",\"570481\":\"Erik Gonzalez\",\"608385\":\"Jesse Winker\",\"592567\":\"Colin Moran\",\"491696\":\"Jesus Sucre\",\"456124\":\"Erik Kratz\",\"545361\":\"Mike Trout\",\"461314\":\"Matt Kemp\",\"595375\":\"J.T. Riddle\",\"596146\":\"Max Kepler\",\"545341\":\"Randal Grichuk\",\"608671\":\"Travis Jankowski\",\"588751\":\"Adeiny Hechavarria\",\"660271\":\"Shohei Ohtani\",\"134181\":\"Adrian Beltre\",\"622682\":\"Victor Reyes\",\"594828\":\"Evan Gattis\",\"546318\":\"Odubel Herrera\",\"408236\":\"Adrian Gonzalez\",\"660670\":\"Ronald Acuna Jr.\",\"592863\":\"Mason Williams\",\"456665\":\"Steve Pearce\",\"571745\":\"Mitch Haniger\",\"463610\":\"Gregorio Petit\",\"656811\":\"Ryan O\\'Hearn\",\"593871\":\"Jorge Polanco\",\"641583\":\"Dustin Fowler\",\"518586\":\"Charlie Culberson\",\"628338\":\"Guillermo Heredia\",\"445055\":\"Jon Jay\",\"572228\":\"Luke Voit\",\"435622\":\"Ian Desmond\",\"570256\":\"Gregory Polanco\",\"571740\":\"Billy Hamilton\",\"543877\":\"Christian Vazquez\",\"592200\":\"Curt Casali\",\"446359\":\"Zack Cozart\",\"518902\":\"Pete Kozma\",\"621573\":\"Austin Dean\",\"547982\":\"Leonys Martin\",\"643603\":\"Tyler White\",\"642851\":\"Austin Wynns\",\"572073\":\"Joey Rickard\",\"474568\":\"Jordy Mercer\",\"500135\":\"Ronny Rodriguez\",\"519023\":\"Devin Mesoraco\",\"622666\":\"Johan Camargo\",\"543760\":\"Marcus Semien\",\"543776\":\"JB Shuck\",\"445988\":\"Martin Prado\",\"657077\":\"Alex Verdugo\",\"622168\":\"Yairo Munoz\",\"594694\":\"Wilmer Difo\",\"517369\":\"Jose Pirela\",\"501981\":\"Khris Davis\",\"608369\":\"Corey Seager\",\"646240\":\"Rafael Devers\",\"453286\":\"Max Scherzer\",\"543068\":\"C.J. Cron\",\"408045\":\"Joe Mauer\",\"596059\":\"Rougned Odor\",\"572122\":\"Kyle Seager\",\"543768\":\"Travis Shaw\",\"594988\":\"Scott Schebler\",\"501896\":\"David Freese\",\"570560\":\"Yolmer Sanchez\",\"594011\":\"Rosell Herrera\",\"543309\":\"Kyle Higashioka\",\"543807\":\"George Springer\",\"576397\":\"Jedd Gyorko\",\"553993\":\"Eugenio Suarez\",\"602922\":\"Jose Rondon\",\"541645\":\"Avisail Garcia\",\"543333\":\"Eric Hosmer\",\"476704\":\"Jed Lowrie\",\"458731\":\"Brett Gardner\",\"444432\":\"Mark Trumbo\",\"571788\":\"Brock Holt\",\"605508\":\"Charlie Tilson\",\"527043\":\"Jefry Marte\",\"458913\":\"Eric Young Jr.\",\"467055\":\"Pablo Sandoval\",\"467793\":\"Carlos Santana\",\"571980\":\"Tyler Naquin\",\"543401\":\"Jason Kipnis\",\"553988\":\"Dixon Machado\",\"542364\":\"Rafael Ortega\",\"656305\":\"Matt Chapman\",\"641856\":\"Billy McKinney\",\"595281\":\"Kevin Kiermaier\",\"408234\":\"Miguel Cabrera\",\"608577\":\"Nomar Mazara\",\"446308\":\"Matt Wieters\",\"543063\":\"Brandon Crawford\",\"605119\":\"Brian Anderson\",\"656669\":\"Jordan Luplow\",\"623993\":\"Anthony Santander\",\"429665\":\"Edwin Encarnacion\",\"592192\":\"Mark Canha\",\"608384\":\"Nick Williams\",\"571466\":\"Tucker Barnhart\",\"572008\":\"Chris Owings\",\"519048\":\"Mitch Moreland\",\"493316\":\"Yoenis Cespedes\",\"520471\":\"Freddy Galvis\",\"434778\":\"Kendrys Morales\",\"571657\":\"Kyle Farmer\",\"606115\":\"Orlando Arcia\",\"591971\":\"Breyvic Valera\",\"519222\":\"Austin Romine\",\"460576\":\"Carlos Gomez\",\"605512\":\"Preston Tucker\",\"650402\":\"Gleyber Torres\",\"592348\":\"Niko Goodrum\",\"501303\":\"Ehire Adrianza\",\"460086\":\"Alex Gordon\",\"641598\":\"Mitch Garver\",\"600524\":\"Renato Nunez\",\"475174\":\"Yonder Alonso\",\"435263\":\"Brian McCann\",\"592325\":\"Ben Gamel\",\"571976\":\"Wil Myers\",\"657656\":\"Ramon Laureano\",\"457727\":\"Cameron Maybin\",\"547172\":\"Tony Wolters\",\"641432\":\"Willie Calhoun\",\"622194\":\"Bruce Maxwell\",\"656775\":\"Cedric Mullins II\",\"657557\":\"Paul DeJong\",\"572821\":\"Brian Dozier\",\"641553\":\"Adam Engel\",\"641820\":\"Trey Mancini\",\"592178\":\"Kris Bryant\",\"595978\":\"Austin Hedges\",\"641355\":\"Cody Bellinger\",\"640447\":\"Phillip Ervin\",\"446386\":\"Brandon Guyer\",\"518618\":\"Derek Dietrich\",\"621020\":\"Dansby Swanson\",\"608654\":\"Johnny Field\",\"502054\":\"Tommy Pham\",\"596847\":\"Ji-Man Choi\",\"491676\":\"Gorkys Hernandez\",\"452254\":\"Hunter Pence\",\"542340\":\"Jonathan Villar\",\"605421\":\"Michael Perez\",\"571851\":\"Spencer Kieboom\",\"543228\":\"Yan Gomes\",\"656555\":\"Rhys Hoskins\",\"621453\":\"Steven Duggar\",\"640461\":\"Chad Pinder\",\"542583\":\"Jesus Aguilar\",\"608475\":\"Dawel Lugo\",\"553882\":\"Omar Narvaez\",\"543376\":\"Caleb Joseph\",\"665742\":\"Juan Soto\",\"543305\":\"Aaron Hicks\",\"570799\":\"Christian Villanueva\",\"594824\":\"Greg Garcia\",\"455117\":\"Martin Maldonado\",\"598265\":\"Jackie Bradley Jr.\",\"592407\":\"Bryan Holaday\",\"572365\":\"Ryan Goins\",\"460026\":\"Nick Hundley\",\"543308\":\"John Hicks\",\"465041\":\"Francisco Cervelli\",\"572761\":\"Matt Carpenter\",\"489149\":\"Logan Morrison\",\"543699\":\"Tanner Roark\",\"595956\":\"Cam Gallagher\",\"572191\":\"Michael A. Taylor\",\"614177\":\"Franmil Reyes\",\"624407\":\"Tzu-Wei Lin\",\"458015\":\"Joey Votto\",\"642086\":\"Dominic Smith\",\"456078\":\"Welington Castillo\",\"593993\":\"Jose Briceno\",\"575929\":\"Willson Contreras\",\"502671\":\"Paul Goldschmidt\",\"503556\":\"Marwin Gonzalez\",\"543257\":\"Robbie Grossman\",\"605361\":\"Nick Martini\",\"605170\":\"Victor Caratini\",\"518626\":\"Josh Donaldson\",\"453943\":\"Todd Frazier\",\"621514\":\"Christin Stewart\",\"542921\":\"Tim Beckham\",\"457705\":\"Andrew McCutchen\",\"608365\":\"Addison Russell\",\"664040\":\"Brandon Lowe\",\"641531\":\"Hunter Dozier\",\"474832\":\"Brandon Belt\",\"594777\":\"Kole Calhoun\",\"457803\":\"Jay Bruce\",\"607776\":\"Mac Williamson\",\"664068\":\"Scott Kingery\",\"592261\":\"Delino DeShields\",\"606192\":\"Teoscar Hernandez\",\"624585\":\"Jorge Soler\",\"475247\":\"Ryan Flaherty\",\"642336\":\"Francisco Mejia\",\"542979\":\"Keon Broxton\",\"400284\":\"Chase Utley\",\"592444\":\"JaCoby Jones\",\"595909\":\"Jake Cave\",\"460269\":\"Chris Gimenez\",\"621566\":\"Matt Olson\",\"623520\":\"David Bote\",\"663656\":\"Kyle Tucker\",\"664056\":\"Harrison Bader\",\"572033\":\"Josh Phegley\",\"519317\":\"Giancarlo Stanton\",\"518735\":\"Yasmani Grandal\",\"620446\":\"Richard Urena\",\"621002\":\"Daniel Robertson\",\"425783\":\"Shin-Soo Choo\",\"596144\":\"Cheslor Cuthbert\",\"596119\":\"Blake Swihart\",\"608597\":\"Ronald Guzman\",\"457708\":\"Justin Upton\",\"448602\":\"Mark Reynolds\",\"620439\":\"Franklin Barreto\",\"608700\":\"Kevin Plawecki\",\"435522\":\"Neil Walker\",\"624424\":\"Michael Conforto\",\"547180\":\"Bryce Harper\",\"624414\":\"Christian Arroyo\",\"594953\":\"Daniel Palka\",\"573135\":\"Tyler Saladino\",\"547170\":\"Nicky Delmonico\",\"596142\":\"Gary Sanchez\",\"598284\":\"Peter O\\'Brien\",\"621043\":\"Carlos Correa\",\"523253\":\"Logan Forsythe\",\"543484\":\"Mikie Mahtook\",\"607043\":\"Brandon Nimmo\",\"621439\":\"Byron Buxton\",\"571970\":\"Max Muncy\",\"607054\":\"Jace Peterson\",\"621035\":\"Chris Taylor\",\"595885\":\"Greg Bird\",\"514917\":\"Cesar Hernandez\",\"621028\":\"Kevin Newman\",\"453923\":\"Gregor Blanco\",\"460077\":\"Drew Butera\",\"641487\":\"J.P. Crawford\",\"594807\":\"Adam Duvall\",\"621446\":\"Lewis Brinson\",\"543510\":\"James McCann\",\"446263\":\"Lucas Duda\",\"519346\":\"Eric Thames\",\"605509\":\"Kelby Tomlinson\",\"595751\":\"Jorge Alfaro\",\"519306\":\"Steven Souza Jr.\",\"543194\":\"Isaac Galloway\",\"571679\":\"David Freitas\",\"592273\":\"Brandon Drury\",\"641319\":\"Carlos Asuaje\",\"475253\":\"Justin Smoak\",\"434158\":\"Curtis Granderson\",\"571506\":\"Justin Bour\",\"614173\":\"Franchy Cordero\",\"451594\":\"Dexter Fowler\",\"545350\":\"Jake Marisnick\",\"642162\":\"Pat Valaika\",\"642715\":\"Willy Adames\",\"518614\":\"Daniel Descalso\",\"459964\":\"Matt Joyce\",\"545358\":\"Max Stassi\",\"664057\":\"Andrew Stevenson\",\"543302\":\"Chris Herrmann\",\"607387\":\"Ryan Rua\",\"621493\":\"Taylor Ward\",\"519299\":\"Eric Sogard\",\"642423\":\"Magneuris Sierra\",\"506702\":\"Sandy Leon\",\"600474\":\"Pedro Severino\",\"501659\":\"Abraham Almonte\",\"605486\":\"Cory Spangenberg\",\"592122\":\"Tyler Austin\",\"488818\":\"Chase d\\'Arnaud\",\"600869\":\"Jeimer Candelario\",\"543543\":\"Brad Miller\",\"641684\":\"Michael Hermosillo\",\"571974\":\"John Ryan Murphy\",\"542208\":\"Carlos Perez\",\"519333\":\"Matt Szczur\",\"641857\":\"Ryan McMahon\",\"534606\":\"Ryan LaMarre\",\"641933\":\"Tyler O\\'Neill\",\"476883\":\"Pedro Alvarez\",\"571718\":\"Brian Goodwin\",\"571918\":\"Deven Marrero\",\"571875\":\"Jake Lamb\",\"435064\":\"Bobby Wilson\",\"641343\":\"Jake Bauers\",\"656941\":\"Kyle Schwarber\",\"554430\":\"Zack Wheeler\",\"592450\":\"Aaron Judge\",\"452095\":\"Tyler Flowers\",\"506747\":\"Francisco Pena\",\"468504\":\"Jhoulys Chacin\",\"593528\":\"Jorge Bonifacio\",\"621044\":\"Jesmuel Valentin\",\"641525\":\"Brandon Dixon\",\"455104\":\"Chris Iannetta\",\"425784\":\"Rene Rivera\",\"596129\":\"Daniel Vogelbach\",\"570267\":\"Domingo Santana\",\"571912\":\"Luke Maile\",\"596103\":\"Austin Slater\",\"660162\":\"Yoan Moncada\",\"621512\":\"Tomas Nido\",\"454560\":\"A.J. Ellis\",\"607430\":\"John Andreoli\",\"608336\":\"Joey Gallo\",\"431145\":\"Russell Martin\",\"607468\":\"Alex Blandino\",\"605204\":\"J.D. Davis\",\"624636\":\"Carlos Tocci\",\"455139\":\"Robinson Chirinos\",\"449181\":\"Paulo Orlando\",\"642180\":\"Tyler Wade\",\"461865\":\"Andrew Romine\",\"501213\":\"Moises Sierra\",\"605548\":\"Bradley Zimmer\",\"407812\":\"Matt Holliday\",\"572287\":\"Mike Zunino\",\"472528\":\"Luis Valbuena\",\"571437\":\"Aaron Altherr\",\"571602\":\"Matt Davidson\",\"605131\":\"Austin Barnes\",\"542908\":\"Jett Bandy\",\"622046\":\"Chris Shaw\",\"606988\":\"Grayson Greiner\",\"594798\":\"Jacob deGrom\",\"605244\":\"Aramis Garcia\",\"425772\":\"Jeff Mathis\",\"621559\":\"Max Moroff\",\"664023\":\"Ian Happ\",\"465753\":\"Pedro Florimon\",\"457706\":\"Austin Jackson\",\"608701\":\"Rob Refsnyder\",\"599096\":\"Dilson Herrera\",\"642082\":\"Chance Sisco\",\"595284\":\"Andrew Knapp\",\"592230\":\"Kaleb Cowart\",\"605233\":\"Derek Fisher\",\"592680\":\"Yadiel Rivera\",\"593934\":\"Miguel Sano\",\"452657\":\"Jon Lester\",\"571945\":\"Miles Mikolas\",\"518774\":\"Matt Harvey\",\"592791\":\"Jameson Taillon\",\"572204\":\"Trayce Thompson\",\"446481\":\"Sean Rodriguez\",\"448801\":\"Chris Davis\",\"571578\":\"Patrick Corbin\",\"621433\":\"Brett Phillips\",\"547379\":\"Roberto Perez\",\"607257\":\"Raffy Lopez\",\"488771\":\"Jason Castro\",\"488671\":\"Alex Avila\",\"592685\":\"Drew Robinson\",\"500779\":\"Jose Quintana\",\"452104\":\"Chase Headley\",\"592351\":\"Jon Gray\",\"543294\":\"Kyle Hendricks\",\"643327\":\"Zack Godley\",\"607536\":\"Kyle Freeland\",\"605400\":\"Aaron Nola\",\"461829\":\"Gio Gonzalez\",\"502706\":\"Derek Holland\",\"467100\":\"Ivan Nova\",\"592314\":\"Mike Foltynewicz\"},\"Team\":{\"553902\":\"Twins\",\"643446\":\"Mets\",\"606299\":\"Reds\",\"592743\":\"Angels\",\"516416\":\"Mariners\",\"645302\":\"Nationals\",\"488726\":\"Indians\",\"578428\":\"Tigers\",\"501571\":\"Mets\",\"609275\":\"Royals\",\"609280\":\"Yankees\",\"493329\":\"Astros\",\"543829\":\"Mariners\",\"605141\":\"Red Sox\",\"544369\":\"Yankees\",\"572816\":\"Pirates\",\"649557\":\"Blue Jays\",\"596019\":\"Indians\",\"435062\":\"Nationals\",\"435559\":\"Braves\",\"502517\":\"- - -\",\"516782\":\"Pirates\",\"592518\":\"- - -\",\"593160\":\"Royals\",\"596748\":\"Phillies\",\"405395\":\"Angels\",\"592696\":\"Twins\",\"527038\":\"Mets\",\"456488\":\"Red Sox\",\"607680\":\"Blue Jays\",\"430945\":\"Orioles\",\"622569\":\"Pirates\",\"645277\":\"Braves\",\"514888\":\"Astros\",\"542255\":\"Braves\",\"592885\":\"Brewers\",\"607345\":\"White Sox\",\"595879\":\"Cubs\",\"502082\":\"Indians\",\"519203\":\"Cubs\",\"543685\":\"Nationals\",\"429664\":\"Mariners\",\"605412\":\"Giants\",\"466320\":\"Indians\",\"664058\":\"Angels\",\"450314\":\"Cubs\",\"425877\":\"Cardinals\",\"605480\":\"Rays\",\"608324\":\"Astros\",\"518934\":\"Rockies\",\"608566\":\"Rockies\",\"591720\":\"Yankees\",\"506703\":\"Nationals\",\"606466\":\"Diamondbacks\",\"435079\":\"- - -\",\"572039\":\"Athletics\",\"571448\":\"Rockies\",\"621563\":\"Rays\",\"595777\":\"Rangers\",\"444482\":\"Diamondbacks\",\"596115\":\"Rockies\",\"500208\":\"Blue Jays\",\"642133\":\"Blue Jays\",\"519058\":\"- - -\",\"591741\":\"Pirates\",\"455976\":\"Braves\",\"643217\":\"Red Sox\",\"624428\":\"Pirates\",\"593428\":\"Red Sox\",\"642708\":\"Mets\",\"641645\":\"Mets\",\"400121\":\"Tigers\",\"518792\":\"Cubs\",\"607208\":\"Nationals\",\"624577\":\"Dodgers\",\"572041\":\"Diamondbacks\",\"553869\":\"Pirates\",\"622534\":\"Padres\",\"502226\":\"Orioles\",\"656185\":\"Indians\",\"500743\":\"Marlins\",\"543939\":\"Cardinals\",\"593700\":\"Giants\",\"457759\":\"Dodgers\",\"592663\":\"Marlins\",\"453568\":\"Rockies\",\"571595\":\"Rockies\",\"516472\":\"Angels\",\"546991\":\"Cubs\",\"640457\":\"- - -\",\"502481\":\"Diamondbacks\",\"456715\":\"Brewers\",\"547989\":\"White Sox\",\"571697\":\"Reds\",\"502110\":\"Red Sox\",\"467092\":\"- - -\",\"521692\":\"Royals\",\"581527\":\"Blue Jays\",\"542303\":\"Cardinals\",\"475582\":\"Nationals\",\"434658\":\"Indians\",\"446334\":\"Giants\",\"444876\":\"Royals\",\"541650\":\"Brewers\",\"457763\":\"Giants\",\"643396\":\"Rangers\",\"467827\":\"Rockies\",\"596451\":\"Phillies\",\"518692\":\"Braves\",\"641313\":\"White Sox\",\"452678\":\"- - -\",\"462101\":\"Rangers\",\"592206\":\"Tigers\",\"621311\":\"Rockies\",\"643393\":\"Astros\",\"592626\":\"Dodgers\",\"500871\":\"- - -\",\"643376\":\"Blue Jays\",\"452655\":\"- - -\",\"544725\":\"White Sox\",\"500874\":\"Cardinals\",\"543281\":\"Pirates\",\"502210\":\"Astros\",\"471865\":\"Rockies\",\"570731\":\"- - -\",\"605113\":\"Diamondbacks\",\"571431\":\"- - -\",\"650490\":\"Indians\",\"516770\":\"Marlins\",\"592387\":\"Mariners\",\"425844\":\"Diamondbacks\",\"600303\":\"Cubs\",\"666971\":\"Blue Jays\",\"592669\":\"Padres\",\"502143\":\"Orioles\",\"518960\":\"Athletics\",\"444489\":\"Brewers\",\"434670\":\"Red Sox\",\"571771\":\"Dodgers\",\"570481\":\"Indians\",\"608385\":\"Reds\",\"592567\":\"Pirates\",\"491696\":\"Rays\",\"456124\":\"Brewers\",\"545361\":\"Angels\",\"461314\":\"Dodgers\",\"595375\":\"Marlins\",\"596146\":\"Twins\",\"545341\":\"Blue Jays\",\"608671\":\"Padres\",\"588751\":\"- - -\",\"660271\":\"Angels\",\"134181\":\"Rangers\",\"622682\":\"Tigers\",\"594828\":\"Astros\",\"546318\":\"Phillies\",\"408236\":\"Mets\",\"660670\":\"Braves\",\"592863\":\"Reds\",\"456665\":\"- - -\",\"571745\":\"Mariners\",\"463610\":\"Twins\",\"656811\":\"Royals\",\"593871\":\"Twins\",\"641583\":\"Athletics\",\"518586\":\"Braves\",\"628338\":\"Mariners\",\"445055\":\"- - -\",\"572228\":\"- - -\",\"435622\":\"Rockies\",\"570256\":\"Pirates\",\"571740\":\"Reds\",\"543877\":\"Red Sox\",\"592200\":\"Reds\",\"446359\":\"Angels\",\"518902\":\"Tigers\",\"621573\":\"Marlins\",\"547982\":\"- - -\",\"643603\":\"Astros\",\"642851\":\"Orioles\",\"572073\":\"Orioles\",\"474568\":\"Pirates\",\"500135\":\"Tigers\",\"519023\":\"- - -\",\"622666\":\"Braves\",\"543760\":\"Athletics\",\"543776\":\"Marlins\",\"445988\":\"Marlins\",\"657077\":\"Dodgers\",\"622168\":\"Cardinals\",\"594694\":\"Nationals\",\"517369\":\"Padres\",\"501981\":\"Athletics\",\"608369\":\"Dodgers\",\"646240\":\"Red Sox\",\"453286\":\"Nationals\",\"543068\":\"Rays\",\"408045\":\"Twins\",\"596059\":\"Rangers\",\"572122\":\"Mariners\",\"543768\":\"Brewers\",\"594988\":\"Reds\",\"501896\":\"- - -\",\"570560\":\"White Sox\",\"594011\":\"- - -\",\"543309\":\"Yankees\",\"543807\":\"Astros\",\"576397\":\"Cardinals\",\"553993\":\"Reds\",\"602922\":\"White Sox\",\"541645\":\"White Sox\",\"543333\":\"Padres\",\"476704\":\"Athletics\",\"458731\":\"Yankees\",\"444432\":\"Orioles\",\"571788\":\"Red Sox\",\"605508\":\"White Sox\",\"527043\":\"Angels\",\"458913\":\"Angels\",\"467055\":\"Giants\",\"467793\":\"Phillies\",\"571980\":\"Indians\",\"543401\":\"Indians\",\"553988\":\"Tigers\",\"542364\":\"Marlins\",\"656305\":\"Athletics\",\"641856\":\"- - -\",\"595281\":\"Rays\",\"408234\":\"Tigers\",\"608577\":\"Rangers\",\"446308\":\"Nationals\",\"543063\":\"Giants\",\"605119\":\"Marlins\",\"656669\":\"Pirates\",\"623993\":\"Orioles\",\"429665\":\"Indians\",\"592192\":\"Athletics\",\"608384\":\"Phillies\",\"571466\":\"Reds\",\"572008\":\"Diamondbacks\",\"519048\":\"Red Sox\",\"493316\":\"Mets\",\"520471\":\"Padres\",\"434778\":\"Blue Jays\",\"571657\":\"Dodgers\",\"606115\":\"Brewers\",\"591971\":\"- - -\",\"519222\":\"Yankees\",\"460576\":\"Rays\",\"605512\":\"- - -\",\"650402\":\"Yankees\",\"592348\":\"Tigers\",\"501303\":\"Twins\",\"460086\":\"Royals\",\"641598\":\"Twins\",\"600524\":\"- - -\",\"475174\":\"Indians\",\"435263\":\"Astros\",\"592325\":\"Mariners\",\"571976\":\"Padres\",\"657656\":\"Athletics\",\"457727\":\"- - -\",\"547172\":\"Rockies\",\"641432\":\"Rangers\",\"622194\":\"Athletics\",\"656775\":\"Orioles\",\"657557\":\"Cardinals\",\"572821\":\"- - -\",\"641553\":\"White Sox\",\"641820\":\"Orioles\",\"592178\":\"Cubs\",\"595978\":\"Padres\",\"641355\":\"Dodgers\",\"640447\":\"Reds\",\"446386\":\"Indians\",\"518618\":\"Marlins\",\"621020\":\"Braves\",\"608654\":\"- - -\",\"502054\":\"- - -\",\"596847\":\"- - -\",\"491676\":\"Giants\",\"452254\":\"Giants\",\"542340\":\"- - -\",\"605421\":\"Rays\",\"571851\":\"Nationals\",\"543228\":\"Indians\",\"656555\":\"Phillies\",\"621453\":\"Giants\",\"640461\":\"Athletics\",\"542583\":\"Brewers\",\"608475\":\"Tigers\",\"553882\":\"White Sox\",\"543376\":\"Orioles\",\"665742\":\"Nationals\",\"543305\":\"Yankees\",\"570799\":\"Padres\",\"594824\":\"Cardinals\",\"455117\":\"- - -\",\"598265\":\"Red Sox\",\"592407\":\"Marlins\",\"572365\":\"Royals\",\"460026\":\"Giants\",\"543308\":\"Tigers\",\"465041\":\"Pirates\",\"572761\":\"Cardinals\",\"489149\":\"Twins\",\"543699\":\"Nationals\",\"595956\":\"Royals\",\"572191\":\"Nationals\",\"614177\":\"Padres\",\"624407\":\"Red Sox\",\"458015\":\"Reds\",\"642086\":\"Mets\",\"456078\":\"White Sox\",\"593993\":\"Angels\",\"575929\":\"Cubs\",\"502671\":\"Diamondbacks\",\"503556\":\"Astros\",\"543257\":\"Twins\",\"605361\":\"Athletics\",\"605170\":\"Cubs\",\"518626\":\"- - -\",\"453943\":\"Mets\",\"621514\":\"Tigers\",\"542921\":\"Orioles\",\"457705\":\"- - -\",\"608365\":\"Cubs\",\"664040\":\"Rays\",\"641531\":\"Royals\",\"474832\":\"Giants\",\"594777\":\"Angels\",\"457803\":\"Mets\",\"607776\":\"Giants\",\"664068\":\"Phillies\",\"592261\":\"Rangers\",\"606192\":\"Blue Jays\",\"624585\":\"Royals\",\"475247\":\"Braves\",\"642336\":\"- - -\",\"542979\":\"Brewers\",\"400284\":\"Dodgers\",\"592444\":\"Tigers\",\"595909\":\"Twins\",\"460269\":\"- - -\",\"621566\":\"Athletics\",\"623520\":\"Cubs\",\"663656\":\"Astros\",\"664056\":\"Cardinals\",\"572033\":\"Athletics\",\"519317\":\"Yankees\",\"518735\":\"Dodgers\",\"620446\":\"Blue Jays\",\"621002\":\"Rays\",\"425783\":\"Rangers\",\"596144\":\"Royals\",\"596119\":\"Red Sox\",\"608597\":\"Rangers\",\"457708\":\"Angels\",\"448602\":\"Nationals\",\"620439\":\"Athletics\",\"608700\":\"Mets\",\"435522\":\"Yankees\",\"624424\":\"Mets\",\"547180\":\"Nationals\",\"624414\":\"Rays\",\"594953\":\"White Sox\",\"573135\":\"- - -\",\"547170\":\"White Sox\",\"596142\":\"Yankees\",\"598284\":\"Marlins\",\"621043\":\"Astros\",\"523253\":\"- - -\",\"543484\":\"Tigers\",\"607043\":\"Mets\",\"621439\":\"Twins\",\"571970\":\"Dodgers\",\"607054\":\"- - -\",\"621035\":\"Dodgers\",\"595885\":\"Yankees\",\"514917\":\"Phillies\",\"621028\":\"Pirates\",\"453923\":\"Giants\",\"460077\":\"- - -\",\"641487\":\"Phillies\",\"594807\":\"- - -\",\"621446\":\"Marlins\",\"543510\":\"Tigers\",\"446263\":\"- - -\",\"519346\":\"Brewers\",\"605509\":\"Giants\",\"595751\":\"Phillies\",\"519306\":\"Diamondbacks\",\"543194\":\"Marlins\",\"571679\":\"Mariners\",\"592273\":\"- - -\",\"641319\":\"Padres\",\"475253\":\"Blue Jays\",\"434158\":\"- - -\",\"571506\":\"- - -\",\"614173\":\"Padres\",\"451594\":\"Cardinals\",\"545350\":\"Astros\",\"642162\":\"Rockies\",\"642715\":\"Rays\",\"518614\":\"Diamondbacks\",\"459964\":\"Athletics\",\"545358\":\"Astros\",\"664057\":\"Nationals\",\"543302\":\"Mariners\",\"607387\":\"Rangers\",\"621493\":\"Angels\",\"519299\":\"Brewers\",\"642423\":\"Marlins\",\"506702\":\"Red Sox\",\"600474\":\"Nationals\",\"501659\":\"Royals\",\"605486\":\"Padres\",\"592122\":\"- - -\",\"488818\":\"Giants\",\"600869\":\"Tigers\",\"543543\":\"- - -\",\"641684\":\"Angels\",\"571974\":\"Diamondbacks\",\"542208\":\"- - -\",\"519333\":\"Padres\",\"641857\":\"Rockies\",\"534606\":\"- - -\",\"641933\":\"Cardinals\",\"476883\":\"Orioles\",\"571718\":\"- - -\",\"571918\":\"Diamondbacks\",\"571875\":\"Diamondbacks\",\"435064\":\"Twins\",\"641343\":\"Rays\",\"656941\":\"Cubs\",\"554430\":\"Mets\",\"592450\":\"Yankees\",\"452095\":\"Braves\",\"506747\":\"Cardinals\",\"468504\":\"Brewers\",\"593528\":\"Royals\",\"621044\":\"Phillies\",\"641525\":\"Reds\",\"455104\":\"Rockies\",\"425784\":\"- - -\",\"596129\":\"Mariners\",\"570267\":\"Brewers\",\"571912\":\"Blue Jays\",\"596103\":\"Giants\",\"660162\":\"White Sox\",\"621512\":\"Mets\",\"454560\":\"Padres\",\"607430\":\"- - -\",\"608336\":\"Rangers\",\"431145\":\"Blue Jays\",\"607468\":\"Reds\",\"605204\":\"Astros\",\"624636\":\"Rangers\",\"455139\":\"Rangers\",\"449181\":\"Royals\",\"642180\":\"Yankees\",\"461865\":\"Mariners\",\"501213\":\"Nationals\",\"605548\":\"Indians\",\"407812\":\"Rockies\",\"572287\":\"Mariners\",\"472528\":\"Angels\",\"571437\":\"Phillies\",\"571602\":\"White Sox\",\"605131\":\"Dodgers\",\"542908\":\"Brewers\",\"622046\":\"Giants\",\"606988\":\"Tigers\",\"594798\":\"Mets\",\"605244\":\"Giants\",\"425772\":\"Diamondbacks\",\"621559\":\"Pirates\",\"664023\":\"Cubs\",\"465753\":\"Phillies\",\"457706\":\"- - -\",\"608701\":\"Rays\",\"599096\":\"Reds\",\"642082\":\"Orioles\",\"595284\":\"Phillies\",\"592230\":\"Angels\",\"605233\":\"Astros\",\"592680\":\"Marlins\",\"593934\":\"Twins\",\"452657\":\"Cubs\",\"571945\":\"Cardinals\",\"518774\":\"- - -\",\"592791\":\"Pirates\",\"572204\":\"- - -\",\"446481\":\"Pirates\",\"448801\":\"Orioles\",\"571578\":\"Diamondbacks\",\"621433\":\"- - -\",\"547379\":\"Indians\",\"607257\":\"Padres\",\"488771\":\"Twins\",\"488671\":\"Diamondbacks\",\"592685\":\"Rangers\",\"500779\":\"Cubs\",\"452104\":\"Padres\",\"592351\":\"Rockies\",\"543294\":\"Cubs\",\"643327\":\"Diamondbacks\",\"607536\":\"Rockies\",\"605400\":\"Phillies\",\"461829\":\"- - -\",\"502706\":\"Giants\",\"467100\":\"Pirates\",\"592314\":\"Braves\"}}'"
      ]
     },
     "execution_count": 42,
     "metadata": {},
     "output_type": "execute_result"
    }
   ],
   "source": [
    "efb_s.rename(\"EFB\").to_frame().merge(b_df[[\"Name\", \"Team\"]], left_index=True, right_index=True).to_json(orient=\"columns\")"
   ]
  },
  {
   "cell_type": "code",
   "execution_count": 43,
   "metadata": {},
   "outputs": [],
   "source": [
    "efp_s = make_efp_series(make_pitcher_df(statcast))"
   ]
  },
  {
   "cell_type": "code",
   "execution_count": 45,
   "metadata": {},
   "outputs": [],
   "source": [
    "efp_s = efp_s.rename(\"EFP\")"
   ]
  },
  {
   "cell_type": "code",
   "execution_count": 58,
   "metadata": {
    "scrolled": true
   },
   "outputs": [
    {
     "name": "stdout",
     "output_type": "stream",
     "text": [
      "Gathering player lookup table. This may take a moment.\n"
     ]
    }
   ],
   "source": [
    "ids = []\n",
    "for i in efp_s.index:\n",
    "    ids.append(i)\n",
    "\n",
    "pitcher_ids = playerid_reverse_lookup(ids)"
   ]
  },
  {
   "cell_type": "code",
   "execution_count": 62,
   "metadata": {},
   "outputs": [
    {
     "data": {
      "text/plain": [
       "'{\"EFP\":{\"112526\":23.9210660552,\"279571\":24.9200126952,\"282332\":24.6003920233,\"407822\":24.647618513,\"407845\":25.6703545609,\"424144\":25.2238423371,\"425492\":26.3693391421,\"425794\":22.8770889076,\"425844\":24.3201952125,\"429719\":25.6195574801,\"429722\":23.6931723519,\"430641\":24.3167931319,\"430935\":24.8981947848,\"433586\":null,\"433587\":23.8640512843,\"433589\":25.183956857,\"434378\":26.1062713346,\"434538\":24.721586031,\"434628\":24.8428005116,\"434671\":24.7232795452,\"435043\":23.4834269034,\"435221\":24.7800662225,\"444468\":26.7786549045,\"445197\":24.5238671096,\"445213\":26.4413433723,\"445276\":27.1026688029,\"445926\":26.1486262964,\"446099\":26.6817135295,\"446372\":25.5219899393,\"446399\":23.5850228192,\"446899\":23.1955166314,\"448178\":24.884187631,\"448179\":23.6231845848,\"448281\":27.5669622171,\"448306\":24.1433965321,\"448609\":25.1312365669,\"448802\":24.0312023088,\"448855\":25.7660165747,\"450203\":25.4689852003,\"450212\":24.0813432162,\"450306\":23.1598861689,\"450729\":24.1220433673,\"451584\":25.8587495097,\"451596\":24.7035498392,\"451661\":26.3034561215,\"452657\":24.7080666459,\"453172\":26.3043464102,\"453178\":24.9003459268,\"453192\":25.2277975653,\"453214\":21.0621869331,\"453265\":25.6556910676,\"453281\":23.2555412343,\"453284\":25.0164630706,\"453286\":25.8590576722,\"453329\":24.2767195357,\"453343\":24.9715263977,\"453344\":27.7019115112,\"453385\":24.0707660774,\"453562\":25.540306333,\"455119\":26.4251760956,\"456034\":25.534536577,\"456501\":24.0611433479,\"456696\":25.747698755,\"456701\":25.2338628999,\"456713\":25.7026995574,\"457915\":25.2225142273,\"457918\":25.7195119266,\"458006\":25.3533786222,\"458584\":23.9136710194,\"458677\":26.4778480644,\"458681\":25.7042888559,\"458690\":24.812851793,\"458708\":23.1895357439,\"458924\":25.9389689832,\"459429\":26.1997794452,\"460283\":23.4010491397,\"461325\":24.1189073343,\"461829\":23.780360202,\"461833\":24.4176353152,\"461872\":25.3099520653,\"462136\":22.9489445116,\"462382\":25.1877906151,\"465657\":25.5230965809,\"467008\":26.0334941124,\"467100\":25.3320827678,\"468504\":23.7830983793,\"471911\":25.5716521738,\"472610\":26.2689928707,\"473879\":25.9902544299,\"474463\":24.2749631655,\"475054\":25.0053490114,\"475115\":24.6349378351,\"475857\":25.8694457692,\"476451\":23.8928962793,\"476454\":26.4195967399,\"476589\":24.881899721,\"476594\":26.28704046,\"477132\":24.9956608335,\"477569\":25.2997703573,\"488748\":26.2158562878,\"488768\":24.448629219,\"488786\":24.7879271477,\"488846\":23.9830544025,\"488984\":26.9566109899,\"489119\":23.9214094664,\"489265\":22.7648727489,\"489334\":26.2529730356,\"489446\":26.360528379,\"491646\":25.1655928681,\"493200\":24.9724669059,\"493247\":23.4827029878,\"493603\":25.492419654,\"500779\":24.8696477991,\"501593\":23.8098460602,\"501625\":25.6125338965,\"501789\":25.6596229634,\"501817\":26.0016000002,\"501822\":25.4435276587,\"501925\":24.5072156085,\"501957\":22.9585530017,\"501985\":25.2585412364,\"502004\":24.2726019602,\"502026\":26.0555506625,\"502032\":26.43565047,\"502042\":25.6632606614,\"502043\":25.6471922014,\"502083\":26.8402469583,\"502085\":25.3977711258,\"502154\":26.4974924677,\"502171\":24.5058298372,\"502188\":24.5653204615,\"502190\":23.7995792891,\"502202\":24.5986127428,\"502212\":23.8690992477,\"502239\":24.8157634881,\"502327\":24.3203083784,\"502522\":26.4275727835,\"502593\":26.5278303998,\"502624\":24.4520728096,\"502706\":24.5601959254,\"502748\":25.1566969344,\"503285\":24.245055319,\"503449\":25.112785175,\"504379\":26.3103151255,\"506433\":25.4238947792,\"516969\":26.4035304326,\"517008\":26.4981111531,\"518397\":26.4657423728,\"518452\":24.3241838886,\"518489\":27.0997034415,\"518516\":24.2280517798,\"518553\":25.3391970912,\"518566\":26.1098342246,\"518617\":25.8173748929,\"518633\":24.9757566259,\"518693\":25.7062152266,\"518715\":24.882119276,\"518748\":24.5972769361,\"518774\":25.929222449,\"518813\":24.7858413121,\"518858\":26.6711813535,\"518875\":25.1752380289,\"518886\":26.7144217742,\"519008\":24.9369945931,\"519043\":24.7112364778,\"519096\":25.8176525572,\"519141\":22.5917006069,\"519144\":24.4743107151,\"519151\":25.9977744571,\"519166\":26.3713721935,\"519242\":25.4320280167,\"519293\":24.8376280731,\"519301\":25.7482414601,\"519326\":25.6251469427,\"519443\":24.6124115394,\"519455\":24.8901241863,\"520980\":26.8959292411,\"521230\":26.3750048916,\"521655\":25.4243179855,\"523260\":26.3250381785,\"525768\":24.8650786999,\"527048\":24.7094090437,\"527054\":24.2953000538,\"527055\":26.4461810884,\"532077\":26.6491365223,\"533167\":24.7532434864,\"541640\":24.2201558621,\"541652\":25.8949330247,\"542881\":24.9072968932,\"542882\":24.961471054,\"542947\":null,\"542960\":25.2233664017,\"543001\":23.6196426736,\"543022\":24.7778725178,\"543031\":24.5066500823,\"543037\":26.4178267795,\"543045\":26.4927492026,\"543056\":23.9356648193,\"543101\":26.050107437,\"543118\":25.0613271096,\"543135\":26.5772174352,\"543169\":25.5331809282,\"543208\":24.2404487026,\"543219\":22.9043823489,\"543243\":25.0476362503,\"543272\":24.3711161346,\"543278\":23.744401465,\"543294\":23.6549887522,\"543339\":26.1753971645,\"543359\":24.9237549411,\"543391\":24.6569370406,\"543475\":25.7664131865,\"543483\":26.1640118351,\"543506\":24.7043568524,\"543507\":26.2611555136,\"543521\":24.8537158238,\"543548\":23.5403580243,\"543557\":24.4776777183,\"543606\":24.4957617532,\"543699\":24.5702899553,\"543734\":24.6681336382,\"543766\":25.5471459198,\"543883\":25.4928808244,\"543935\":25.7472270462,\"544727\":26.6901926633,\"544928\":23.6620055321,\"544931\":26.0206179355,\"545333\":24.9517131185,\"547179\":25.8865375204,\"547749\":23.7109319915,\"547888\":24.5425294218,\"547943\":24.5658638536,\"547973\":27.8863782061,\"548389\":24.8355575639,\"552640\":24.9324469216,\"553878\":26.8378442033,\"554340\":25.5905211647,\"554430\":26.864034896,\"570240\":24.937341552,\"570632\":26.4499432539,\"570663\":26.4937862757,\"570666\":24.7371991762,\"571035\":24.0274239392,\"571476\":25.5161916579,\"571510\":23.8112446042,\"571561\":26.870487007,\"571578\":24.5183284728,\"571656\":25.4136321933,\"571666\":24.0099240915,\"571670\":26.2915484548,\"571704\":26.3248340519,\"571710\":26.8863112067,\"571760\":24.6079994442,\"571800\":23.6883786899,\"571863\":24.9026015549,\"571901\":25.0135919377,\"571927\":25.5137990398,\"571945\":25.5183799226,\"571946\":25.1055277539,\"571951\":25.0706266652,\"572020\":26.266399869,\"572021\":26.8720216038,\"572044\":25.4916206181,\"572070\":25.7430855378,\"572140\":24.1845334183,\"572143\":24.8914239406,\"572193\":26.5417928814,\"572362\":24.7673029462,\"572403\":25.5187980462,\"572750\":25.4965238501,\"572888\":25.0357057352,\"572955\":24.8856674198,\"572971\":24.2254874473,\"573064\":24.2554173481,\"573109\":23.9645220883,\"573124\":25.280535783,\"573185\":24.5042462957,\"573186\":24.8728383534,\"573668\":26.8350421806,\"584171\":25.2615449824,\"591693\":25.0461531582,\"592094\":25.1822125287,\"592102\":25.5557045804,\"592130\":24.5793146118,\"592135\":25.1495483019,\"592145\":25.3086033183,\"592169\":25.5497849287,\"592222\":22.3412175652,\"592229\":25.5878391971,\"592314\":26.1890785447,\"592332\":25.2606853108,\"592340\":24.899053799,\"592351\":25.8035118266,\"592390\":26.1750837544,\"592426\":25.4070927981,\"592454\":26.2015334794,\"592468\":24.8338186827,\"592473\":null,\"592499\":24.527007585,\"592547\":24.2953703041,\"592644\":24.3176095707,\"592662\":25.1714810683,\"592665\":25.4451763629,\"592705\":25.3682599676,\"592716\":25.1955696461,\"592717\":25.5156062237,\"592741\":25.1727490883,\"592761\":24.7301116394,\"592773\":27.0247611494,\"592779\":24.6548817342,\"592789\":27.0757670187,\"592791\":26.2024768823,\"592804\":24.2382021191,\"592811\":23.6078330337,\"592815\":25.9925507699,\"592826\":25.7050382194,\"592865\":26.2238994199,\"592866\":25.3867856705,\"593140\":26.1831107058,\"593144\":26.2812192562,\"593334\":25.0084712511,\"593372\":24.9527841724,\"593423\":26.1731444085,\"593576\":25.6849665045,\"593833\":25.916042498,\"593958\":25.721449344,\"593974\":25.449656967,\"594027\":27.4408693098,\"594577\":26.3425273698,\"594798\":27.3853397328,\"594835\":24.2666963804,\"594840\":25.4845916389,\"594902\":23.952091164,\"594965\":25.8324851047,\"595014\":27.5511033091,\"595465\":25.9432902273,\"595918\":24.3247735019,\"596001\":24.4865929524,\"596043\":24.8970148019,\"596057\":24.0397708601,\"596071\":22.9154494839,\"596074\":24.7239284497,\"596133\":25.214945528,\"596271\":24.1284961743,\"596295\":25.095614424,\"596720\":26.141750633,\"598264\":26.31172144,\"598271\":23.140476487,\"598287\":23.9306320083,\"599683\":24.6521079845,\"600917\":25.2920878885,\"600968\":25.3489018857,\"600986\":26.7429301913,\"601713\":25.6393945903,\"605121\":25.7220993017,\"605135\":24.807759023,\"605143\":26.7409613537,\"605151\":26.9320527497,\"605154\":25.7916026388,\"605164\":24.225626891,\"605177\":null,\"605182\":25.2437626865,\"605195\":26.4526159683,\"605200\":24.2253228831,\"605218\":26.2972225649,\"605232\":23.898116822,\"605240\":24.7284204415,\"605242\":26.3486601706,\"605254\":25.2091189482,\"605255\":25.0179533527,\"605276\":24.1046361575,\"605280\":25.1716053894,\"605301\":25.7951501051,\"605309\":26.6848556552,\"605347\":25.1253595006,\"605388\":24.358008623,\"605397\":25.6636536649,\"605400\":25.0687114452,\"605441\":26.3185124788,\"605446\":24.8504150766,\"605483\":26.2468046076,\"605488\":24.9668748646,\"605498\":24.6454514163,\"605538\":24.5132178859,\"605540\":26.6618563475,\"605541\":25.4666187948,\"606131\":25.012767949,\"606162\":25.219055723,\"606167\":25.0409912341,\"606273\":24.8381883854,\"606424\":25.0873135966,\"606478\":24.6639230673,\"606625\":25.9040622382,\"606930\":26.5993503093,\"606944\":25.2395210316,\"606965\":24.8088092833,\"607074\":25.2284339035,\"607188\":24.4772529882,\"607192\":27.1201364587,\"607200\":25.2804623081,\"607215\":25.1046940497,\"607219\":25.8027160973,\"607229\":26.0338917062,\"607231\":24.8084619837,\"607237\":26.4321262836,\"607352\":25.4045963328,\"607374\":23.7782999696,\"607457\":24.9020180805,\"607473\":25.0131864458,\"607481\":25.9081717417,\"607536\":25.4557476316,\"607625\":25.2283088923,\"607968\":26.3842464587,\"608328\":23.8259771497,\"608331\":24.4955170557,\"608334\":24.8009711475,\"608337\":24.7838552418,\"608349\":26.7240830811,\"608371\":24.2331346862,\"608379\":25.3667058728,\"608566\":25.3895318673,\"608601\":25.1593677079,\"608638\":26.1394600241,\"608648\":25.334860106,\"608652\":24.9884898808,\"608665\":25.4505444833,\"608678\":26.4942126945,\"608716\":26.6382994043,\"608717\":24.6619799099,\"608718\":24.2290361619,\"611093\":25.6274598471,\"612434\":25.93454824,\"612672\":24.5976006675,\"620454\":26.144306245,\"621056\":25.0012102333,\"621107\":25.9281419416,\"621111\":26.6555240575,\"621112\":24.5175192363,\"621121\":25.1797502088,\"621141\":24.049878977,\"621199\":24.5213421533,\"621219\":24.7062093294,\"621237\":27.5545027698,\"621242\":27.8765682321,\"621244\":25.3637439734,\"621261\":25.0842822595,\"621289\":26.0822718683,\"621295\":25.9315745329,\"621345\":26.9079190864,\"621366\":24.9370172839,\"621381\":25.6829671457,\"621385\":25.362240374,\"621389\":23.4919886553,\"621397\":23.4516120766,\"622072\":24.5999759257,\"622097\":24.6611846133,\"622098\":25.9709680305,\"622161\":24.4770628214,\"622259\":27.1631255628,\"622382\":24.0829786045,\"622446\":25.9059995861,\"622491\":25.7617732377,\"622505\":26.4634533673,\"622554\":27.7606397312,\"622608\":25.5412112032,\"622663\":26.6001486964,\"622694\":24.5451647783,\"622766\":25.6913167873,\"622772\":26.8984332512,\"622795\":24.5022839692,\"622864\":25.985053221,\"623149\":24.7017866071,\"623184\":26.7911859261,\"623352\":27.3008586313,\"623381\":23.7369832316,\"623402\":25.0149451838,\"623430\":24.6370345378,\"623451\":25.179294604,\"624427\":23.7531742529,\"625643\":25.7119799641,\"627894\":25.1894656932,\"628317\":24.7502478728,\"628318\":21.7864970911,\"628333\":24.2401855934,\"628452\":26.0479856632,\"630023\":26.1452961758,\"640455\":24.9664224214,\"640464\":25.5073841826,\"641154\":25.4545884505,\"641341\":26.3569765975,\"641427\":25.1437800879,\"641438\":25.8806174979,\"641571\":24.7682654144,\"641627\":25.604949648,\"641712\":null,\"641729\":26.9324997968,\"641745\":25.9373313576,\"641771\":25.9010696506,\"641778\":24.5320802061,\"641793\":24.7929743887,\"641816\":25.2698882117,\"641835\":26.1713799109,\"641838\":25.933258702,\"641871\":26.3503445659,\"641941\":26.3563681612,\"642003\":25.3603586858,\"642008\":26.4560949501,\"642098\":25.5109655036,\"642152\":27.3158195622,\"642231\":25.0661514152,\"642232\":24.1331990909,\"642528\":25.7327669584,\"642545\":24.2353268059,\"642547\":25.5535355222,\"642558\":24.9706964283,\"642571\":23.6511106784,\"643230\":25.6636211639,\"643256\":24.5653542469,\"643316\":25.3391614096,\"643327\":23.8069368716,\"643338\":27.6042348295,\"643354\":22.9710824978,\"643410\":24.4415612363,\"643466\":24.9378987519,\"643493\":24.74518504,\"643617\":24.9059706668,\"643778\":24.470078005,\"644364\":25.5008820855,\"645261\":25.6108123099,\"647336\":25.0978288598,\"650828\":26.247566621,\"650895\":26.7618925547,\"656186\":25.8392711317,\"656222\":24.3950285244,\"656257\":23.9822139754,\"656354\":25.4652796764,\"656427\":25.5147138269,\"656547\":25.5862485964,\"656738\":24.2740530426,\"656756\":23.9311875126,\"656794\":24.8333392814,\"656798\":24.5512806794,\"656887\":25.6049944549,\"656945\":26.3752030512,\"657053\":24.5638889479,\"657205\":25.0068127334,\"657571\":25.62721568,\"657610\":23.6167102358,\"657612\":25.7372488899,\"657624\":26.760185903,\"660271\":25.6182791397,\"660853\":25.3297942652,\"663855\":27.9431280331,\"664028\":24.7293341668,\"664192\":24.6213756073,\"664208\":24.7775134895,\"664285\":24.5550031339,\"664682\":24.4909925772,\"669203\":26.7045773474,\"669456\":25.4096265838,\"670950\":24.7303531298,\"673633\":25.2856573335},\"name_last\":{\"112526\":\"colon\",\"279571\":\"belisle\",\"282332\":\"sabathia\",\"407822\":\"de la rosa\",\"407845\":\"rodney\",\"424144\":\"perez\",\"425492\":\"madson\",\"425794\":\"wainwright\",\"425844\":\"greinke\",\"429719\":\"jackson\",\"429722\":\"santana\",\"430641\":\"boyer\",\"430935\":\"hamels\",\"433586\":\"casilla\",\"433587\":\"hernandez\",\"433589\":\"petit\",\"434378\":\"verlander\",\"434538\":\"liriano\",\"434628\":\"hammel\",\"434671\":\"sanchez\",\"435043\":\"duke\",\"435221\":\"mccarthy\",\"444468\":\"rondon\",\"445197\":\"dunn\",\"445213\":\"kintzler\",\"445276\":\"jansen\",\"445926\":\"chavez\",\"446099\":\"axford\",\"446372\":\"kluber\",\"446399\":\"cecil\",\"446899\":\"ziegler\",\"448178\":\"jepsen\",\"448179\":\"hill\",\"448281\":\"doolittle\",\"448306\":\"shields\",\"448609\":\"sipp\",\"448802\":\"garcia\",\"448855\":\"guerra\",\"450203\":\"morton\",\"450212\":\"neshek\",\"450306\":\"vargas\",\"450729\":\"fister\",\"451584\":\"davis\",\"451596\":\"gallardo\",\"451661\":\"fields\",\"452657\":\"lester\",\"453172\":\"hughes\",\"453178\":\"kennedy\",\"453192\":\"miller\",\"453214\":\"wright\",\"453265\":\"watson\",\"453281\":\"leblanc\",\"453284\":\"parker\",\"453286\":\"scherzer\",\"453329\":\"buchholz\",\"453343\":\"melancon\",\"453344\":\"morrow\",\"453385\":\"richard\",\"453562\":\"arrieta\",\"455119\":\"martin\",\"456034\":\"price\",\"456501\":\"cueto\",\"456696\":\"hernandez\",\"456701\":\"bailey\",\"456713\":\"bush\",\"457915\":\"guerra\",\"457918\":\"happ\",\"458006\":\"albers\",\"458584\":\"cedeno\",\"458677\":\"wilson\",\"458681\":\"lynn\",\"458690\":\"volstad\",\"458708\":\"tomlin\",\"458924\":\"venters\",\"459429\":\"mcgee\",\"460283\":\"blevins\",\"461325\":\"clippard\",\"461829\":\"gonzalez\",\"461833\":\"hughes\",\"461872\":\"swarzak\",\"462136\":\"estrada\",\"462382\":\"johnson\",\"465657\":\"soria\",\"467008\":\"strop\",\"467100\":\"nova\",\"468504\":\"chacin\",\"471911\":\"carrasco\",\"472610\":\"garcia\",\"473879\":\"dyson\",\"474463\":\"anderson\",\"475054\":\"roe\",\"475115\":\"ross\",\"475857\":\"cook\",\"476451\":\"hellickson\",\"476454\":\"betances\",\"476589\":\"warren\",\"476594\":\"stock\",\"477132\":\"kershaw\",\"477569\":\"salas\",\"488748\":\"buchter\",\"488768\":\"cashner\",\"488786\":\"coleman\",\"488846\":\"duensing\",\"488984\":\"hunter\",\"489119\":\"miley\",\"489265\":\"romo\",\"489334\":\"stammen\",\"489446\":\"yates\",\"491646\":\"gomez\",\"493200\":\"oh\",\"493247\":\"moylan\",\"493603\":\"ottavino\",\"500779\":\"quintana\",\"501593\":\"avilan\",\"501625\":\"alvarez\",\"501789\":\"harris\",\"501817\":\"barnette\",\"501822\":\"hatcher\",\"501925\":\"smith\",\"501957\":\"tillman\",\"501985\":\"minor\",\"502004\":\"kontos\",\"502026\":\"jeffress\",\"502032\":\"norris\",\"502042\":\"archer\",\"502043\":\"gibson\",\"502083\":\"mcallister\",\"502085\":\"robertson\",\"502154\":\"britton\",\"502171\":\"cobb\",\"502188\":\"samardzija\",\"502190\":\"leake\",\"502202\":\"boxberger\",\"502212\":\"bibens-dirkx\",\"502239\":\"cahill\",\"502327\":\"santiago\",\"502522\":\"miller\",\"502593\":\"petricka\",\"502624\":\"anderson\",\"502706\":\"holland\",\"502748\":\"peacock\",\"503285\":\"o\\'day\",\"503449\":\"peralta\",\"504379\":\"nicasio\",\"506433\":\"darvish\",\"516969\":\"herrera\",\"517008\":\"colome\",\"518397\":\"alexander\",\"518452\":\"bettis\",\"518489\":\"brasier\",\"518516\":\"bumgarner\",\"518553\":\"cishek\",\"518566\":\"cole\",\"518617\":\"diekman\",\"518633\":\"duffy\",\"518693\":\"freeman\",\"518715\":\"gearrin\",\"518748\":\"grimm\",\"518774\":\"harvey\",\"518813\":\"holland\",\"518858\":\"jones\",\"518875\":\"kelley\",\"518886\":\"kimbrel\",\"519008\":\"mcfarland\",\"519043\":\"moore\",\"519096\":\"otero\",\"519141\":\"pomeranz\",\"519144\":\"porcello\",\"519151\":\"pressly\",\"519166\":\"ramirez\",\"519242\":\"sale\",\"519293\":\"smith\",\"519301\":\"solis\",\"519326\":\"strickland\",\"519443\":\"workman\",\"519455\":\"zimmermann\",\"520980\":\"baez\",\"521230\":\"hendriks\",\"521655\":\"font\",\"523260\":\"kelly\",\"525768\":\"collins\",\"527048\":\"perez\",\"527054\":\"teheran\",\"527055\":\"vizcaino\",\"532077\":\"osuna\",\"533167\":\"shoemaker\",\"541640\":\"ramirez\",\"541652\":\"rondon\",\"542881\":\"anderson\",\"542882\":\"andriese\",\"542947\":\"bleier\",\"542960\":\"brach\",\"543001\":\"carpenter\",\"543022\":\"chatwood\",\"543031\":\"cloyd\",\"543037\":\"cole\",\"543045\":\"conley\",\"543056\":\"coulombe\",\"543101\":\"desclafani\",\"543118\":\"drake\",\"543135\":\"eovaldi\",\"543169\":\"flynn\",\"543208\":\"gaviglio\",\"543219\":\"gilmartin\",\"543243\":\"gray\",\"543272\":\"hand\",\"543278\":\"hardy\",\"543294\":\"hendricks\",\"543339\":\"hudson\",\"543359\":\"jennings\",\"543391\":\"kelly\",\"543475\":\"lyles\",\"543483\":\"magill\",\"543506\":\"maurer\",\"543507\":\"may\",\"543521\":\"mchugh\",\"543548\":\"milone\",\"543557\":\"montgomery\",\"543606\":\"odorizzi\",\"543699\":\"roark\",\"543734\":\"rusin\",\"543766\":\"shaw\",\"543883\":\"vincent\",\"543935\":\"wilson\",\"544727\":\"familia\",\"544928\":\"lyons\",\"544931\":\"strasburg\",\"545333\":\"bauer\",\"547179\":\"lorenzen\",\"547749\":\"tazawa\",\"547888\":\"tanaka\",\"547943\":\"ryu\",\"547973\":\"chapman\",\"548389\":\"stripling\",\"552640\":\"kittredge\",\"553878\":\"vazquez\",\"554340\":\"garcia\",\"554430\":\"wheeler\",\"570240\":\"pena\",\"570632\":\"urena\",\"570663\":\"robles\",\"570666\":\"cessa\",\"571035\":\"cuevas\",\"571476\":\"beck\",\"571510\":\"boyd\",\"571561\":\"cingrani\",\"571578\":\"corbin\",\"571656\":\"farmer\",\"571666\":\"fiers\",\"571670\":\"floro\",\"571704\":\"giles\",\"571710\":\"givens\",\"571760\":\"heaney\",\"571800\":\"hutchison\",\"571863\":\"koch\",\"571901\":\"loup\",\"571927\":\"matz\",\"571945\":\"mikolas\",\"571946\":\"miller\",\"571951\":\"mitchell\",\"572020\":\"paxton\",\"572021\":\"pazos\",\"572044\":\"pounders\",\"572070\":\"richards\",\"572140\":\"skaggs\",\"572143\":\"smith\",\"572193\":\"tepera\",\"572362\":\"erlin\",\"572403\":\"verhagen\",\"572750\":\"butler\",\"572888\":\"greene\",\"572955\":\"johnson\",\"572971\":\"keuchel\",\"573064\":\"nuno\",\"573109\":\"ramos\",\"573124\":\"rogers\",\"573185\":\"straily\",\"573186\":\"stroman\",\"573668\":\"minaya\",\"584171\":\"velazquez\",\"591693\":\"ramos\",\"592094\":\"adam\",\"592102\":\"allen\",\"592130\":\"barnes\",\"592135\":\"bedrosian\",\"592145\":\"biddle\",\"592169\":\"brice\",\"592222\":\"claudio\",\"592229\":\"covey\",\"592314\":\"foltynewicz\",\"592332\":\"gausman\",\"592340\":\"goeddel\",\"592351\":\"gray\",\"592390\":\"hembree\",\"592426\":\"jackson\",\"592454\":\"kahnle\",\"592468\":\"kingham\",\"592473\":\"kolarek\",\"592499\":\"lewicki\",\"592547\":\"mcguire\",\"592644\":\"plutko\",\"592662\":\"ray\",\"592665\":\"reed\",\"592705\":\"rumbelow\",\"592716\":\"sampson\",\"592717\":\"sanchez\",\"592741\":\"shreve\",\"592761\":\"smith\",\"592773\":\"stanek\",\"592779\":\"stewart\",\"592789\":\"syndergaard\",\"592791\":\"taillon\",\"592804\":\"thornburg\",\"592811\":\"triggs\",\"592815\":\"tuivailala\",\"592826\":\"velasquez\",\"592865\":\"williams\",\"592866\":\"williams\",\"593140\":\"feliz\",\"593144\":\"rodriguez\",\"593334\":\"german\",\"593372\":\"martinez\",\"593423\":\"montas\",\"593576\":\"neris\",\"593833\":\"suero\",\"593958\":\"rodriguez\",\"593974\":\"peralta\",\"594027\":\"guerrero\",\"594577\":\"mayers\",\"594798\":\"degrom\",\"594835\":\"gonzales\",\"594840\":\"grace\",\"594902\":\"lively\",\"594965\":\"ponce de leon\",\"595014\":\"treinen\",\"595465\":\"winkler\",\"595918\":\"cole\",\"596001\":\"junis\",\"596043\":\"mengden\",\"596057\":\"norris\",\"596071\":\"peters\",\"596074\":\"poyner\",\"596133\":\"weaver\",\"596271\":\"lawrence\",\"596295\":\"gomber\",\"596720\":\"neverauskas\",\"598264\":\"barnes\",\"598271\":\"johnson\",\"598287\":\"ramirez\",\"599683\":\"saupold\",\"600917\":\"leclerc\",\"600968\":\"rosario\",\"600986\":\"vieira\",\"601713\":\"pivetta\",\"605121\":\"anderson\",\"605135\":\"bassitt\",\"605143\":\"black\",\"605151\":\"bradley\",\"605154\":\"brebbia\",\"605164\":\"bundy\",\"605177\":\"chafin\",\"605182\":\"clevinger\",\"605195\":\"crick\",\"605200\":\"davies\",\"605218\":\"edwards\",\"605232\":\"finnegan\",\"605240\":\"fry\",\"605242\":\"fulmer\",\"605254\":\"gossett\",\"605255\":\"graves\",\"605276\":\"hess\",\"605280\":\"holmes\",\"605301\":\"jerez\",\"605309\":\"kela\",\"605347\":\"lopez\",\"605388\":\"morgan\",\"605397\":\"musgrove\",\"605400\":\"nola\",\"605441\":\"rios\",\"605446\":\"rodriguez\",\"605483\":\"snell\",\"605488\":\"springs\",\"605498\":\"suarez\",\"605538\":\"wisler\",\"605540\":\"woodruff\",\"605541\":\"wright\",\"606131\":\"perdomo\",\"606162\":\"ramirez\",\"606167\":\"mejia\",\"606273\":\"elias\",\"606424\":\"garcia\",\"606478\":\"araujo\",\"606625\":\"moronta\",\"606930\":\"barnes\",\"606944\":\"carroll\",\"606965\":\"devenski\",\"607074\":\"rodon\",\"607188\":\"faria\",\"607192\":\"glasnow\",\"607200\":\"fedde\",\"607215\":\"skoglund\",\"607219\":\"romano\",\"607229\":\"gsellman\",\"607231\":\"gant\",\"607237\":\"garrett\",\"607352\":\"biagini\",\"607374\":\"tropeano\",\"607457\":\"barraclough\",\"607473\":\"bradford\",\"607481\":\"bummer\",\"607536\":\"freeland\",\"607625\":\"lugo\",\"607968\":\"rucinski\",\"608328\":\"de jong\",\"608331\":\"fried\",\"608334\":\"fulmer\",\"608337\":\"giolito\",\"608349\":\"knebel\",\"608371\":\"sims\",\"608379\":\"wacha\",\"608566\":\"marquez\",\"608601\":\"santos\",\"608638\":\"chargois\",\"608648\":\"duffey\",\"608652\":\"farrell\",\"608665\":\"graveman\",\"608678\":\"leone\",\"608716\":\"steckenrider\",\"608717\":\"stratton\",\"608718\":\"suter\",\"611093\":\"bracho\",\"612434\":\"castro\",\"612672\":\"chen\",\"620454\":\"castillo\",\"621056\":\"wood\",\"621107\":\"eflin\",\"621111\":\"buehler\",\"621112\":\"blackburn\",\"621121\":\"mccullers\",\"621141\":\"lockett\",\"621199\":\"bowman\",\"621219\":\"mills\",\"621237\":\"alvarado\",\"621242\":\"diaz\",\"621244\":\"berrios\",\"621261\":\"oswalt\",\"621289\":\"schultz\",\"621295\":\"wittgren\",\"621345\":\"minter\",\"621366\":\"borucki\",\"621381\":\"strahm\",\"621385\":\"stumpf\",\"621389\":\"blach\",\"621397\":\"olson\",\"622072\":\"wood\",\"622097\":\"thompson\",\"622098\":\"smith\",\"622161\":\"paredes\",\"622259\":\"wingenter\",\"622382\":\"moya\",\"622446\":\"rodriguez\",\"622491\":\"castillo\",\"622505\":\"alcantara\",\"622554\":\"dominguez\",\"622608\":\"senzatela\",\"622663\":\"severino\",\"622694\":\"hernandez\",\"622766\":\"diaz\",\"622772\":\"cordero\",\"622795\":\"mendez\",\"622864\":\"romero\",\"623149\":\"sewald\",\"623184\":\"oberg\",\"623352\":\"hader\",\"623381\":\"pannone\",\"623402\":\"peterson\",\"623430\":\"dull\",\"623451\":\"stephens\",\"624427\":\"gonsalves\",\"625643\":\"lopez\",\"627894\":\"gohara\",\"628317\":\"maeda\",\"628318\":\"makita\",\"628333\":\"despaigne\",\"628452\":\"iglesias\",\"630023\":\"chirinos\",\"640455\":\"manaea\",\"640464\":\"stewart\",\"641154\":\"lopez\",\"641341\":\"bashlor\",\"641427\":\"busenitz\",\"641438\":\"carle\",\"641571\":\"fillmyer\",\"641627\":\"gott\",\"641712\":\"hudson\",\"641729\":\"jimenez\",\"641745\":\"keller\",\"641771\":\"kuhl\",\"641778\":\"lauer\",\"641793\":\"littell\",\"641816\":\"mahle\",\"641835\":\"mayza\",\"641838\":\"mccarthy\",\"641871\":\"middleton\",\"641941\":\"pagan\",\"642003\":\"reed\",\"642008\":\"rhame\",\"642098\":\"sparkman\",\"642152\":\"trivino\",\"642231\":\"yacabonis\",\"642232\":\"yarbrough\",\"642528\":\"loaisiga\",\"642545\":\"barria\",\"642547\":\"peralta\",\"642558\":\"jurado\",\"642571\":\"gonzalez\",\"643230\":\"brault\",\"643256\":\"cimber\",\"643316\":\"fry\",\"643327\":\"godley\",\"643338\":\"green\",\"643354\":\"hart\",\"643410\":\"leiter\",\"643466\":\"musgrave\",\"643493\":\"pruitt\",\"643617\":\"reininger\",\"643778\":\"webb\",\"644364\":\"arano\",\"645261\":\"alcantara\",\"647336\":\"soroka\",\"650828\":\"santana\",\"650895\":\"castillo\",\"656186\":\"altavilla\",\"656222\":\"beeks\",\"656257\":\"brigham\",\"656354\":\"davis\",\"656427\":\"flaherty\",\"656547\":\"holder\",\"656738\":\"meyer\",\"656756\":\"montgomery\",\"656794\":\"newcomb\",\"656798\":\"nix\",\"656887\":\"reid-foley\",\"656945\":\"scott\",\"657053\":\"toussaint\",\"657205\":\"curtis\",\"657571\":\"ferguson\",\"657610\":\"hildenberger\",\"657612\":\"hill\",\"657624\":\"james\",\"660271\":\"ohtani\",\"660853\":\"de los santos\",\"663855\":\"hicks\",\"664028\":\"kennedy\",\"664192\":\"lucchesi\",\"664208\":\"maton\",\"664285\":\"valdez\",\"664682\":\"meisinger\",\"669203\":\"burnes\",\"669456\":\"bieber\",\"670950\":\"richards\",\"673633\":\"hirano\"},\"name_first\":{\"112526\":\"bartolo\",\"279571\":\"matt\",\"282332\":\"cc\",\"407822\":\"jorge\",\"407845\":\"fernando\",\"424144\":\"oliver\",\"425492\":\"ryan\",\"425794\":\"adam\",\"425844\":\"zack\",\"429719\":\"edwin\",\"429722\":\"ervin\",\"430641\":\"blaine\",\"430935\":\"cole\",\"433586\":\"santiago\",\"433587\":\"felix\",\"433589\":\"yusmeiro\",\"434378\":\"justin\",\"434538\":\"francisco\",\"434628\":\"jason\",\"434671\":\"anibal\",\"435043\":\"zach\",\"435221\":\"brandon\",\"444468\":\"hector\",\"445197\":\"mike\",\"445213\":\"brandon\",\"445276\":\"kenley\",\"445926\":\"jesse\",\"446099\":\"john\",\"446372\":\"corey\",\"446399\":\"brett\",\"446899\":\"brad\",\"448178\":\"kevin\",\"448179\":\"rich\",\"448281\":\"sean\",\"448306\":\"james\",\"448609\":\"tony\",\"448802\":\"jaime\",\"448855\":\"junior\",\"450203\":\"charlie\",\"450212\":\"pat\",\"450306\":\"jason\",\"450729\":\"doug\",\"451584\":\"wade\",\"451596\":\"yovani\",\"451661\":\"josh\",\"452657\":\"jon\",\"453172\":\"jared\",\"453178\":\"ian\",\"453192\":\"andrew\",\"453214\":\"steven\",\"453265\":\"tony\",\"453281\":\"wade\",\"453284\":\"blake\",\"453286\":\"max\",\"453329\":\"clay\",\"453343\":\"mark\",\"453344\":\"brandon\",\"453385\":\"clayton\",\"453562\":\"jake\",\"455119\":\"chris\",\"456034\":\"david\",\"456501\":\"johnny\",\"456696\":\"david\",\"456701\":\"homer\",\"456713\":\"matt\",\"457915\":\"javy\",\"457918\":\"j. a.\",\"458006\":\"matt\",\"458584\":\"xavier\",\"458677\":\"justin\",\"458681\":\"lance\",\"458690\":\"chris\",\"458708\":\"josh\",\"458924\":\"jonny\",\"459429\":\"jake\",\"460283\":\"jerry\",\"461325\":\"tyler\",\"461829\":\"gio\",\"461833\":\"phil\",\"461872\":\"anthony\",\"462136\":\"marco\",\"462382\":\"jim\",\"465657\":\"joakim\",\"467008\":\"pedro\",\"467100\":\"ivan\",\"468504\":\"jhoulys\",\"471911\":\"carlos\",\"472610\":\"luis\",\"473879\":\"sam\",\"474463\":\"brett\",\"475054\":\"chaz\",\"475115\":\"tyson\",\"475857\":\"ryan\",\"476451\":\"jeremy\",\"476454\":\"dellin\",\"476589\":\"adam\",\"476594\":\"robert\",\"477132\":\"clayton\",\"477569\":\"fernando\",\"488748\":\"ryan\",\"488768\":\"andrew\",\"488786\":\"louis\",\"488846\":\"brian\",\"488984\":\"tommy\",\"489119\":\"wade\",\"489265\":\"sergio\",\"489334\":\"craig\",\"489446\":\"kirby\",\"491646\":\"jeanmar\",\"493200\":\"seunghwan\",\"493247\":\"peter\",\"493603\":\"adam\",\"500779\":\"jose\",\"501593\":\"luis\",\"501625\":\"jose\",\"501789\":\"will\",\"501817\":\"tony\",\"501822\":\"chris\",\"501925\":\"joe\",\"501957\":\"chris\",\"501985\":\"mike\",\"502004\":\"george\",\"502026\":\"jeremy\",\"502032\":\"bud\",\"502042\":\"chris\",\"502043\":\"kyle\",\"502083\":\"zach\",\"502085\":\"david\",\"502154\":\"zack\",\"502171\":\"alex\",\"502188\":\"jeff\",\"502190\":\"mike\",\"502202\":\"brad\",\"502212\":\"austin\",\"502239\":\"trevor\",\"502327\":\"hector\",\"502522\":\"justin\",\"502593\":\"jake\",\"502624\":\"chase\",\"502706\":\"derek\",\"502748\":\"brad\",\"503285\":\"darren\",\"503449\":\"wily\",\"504379\":\"juan\",\"506433\":\"yu\",\"516969\":\"kelvin\",\"517008\":\"alex\",\"518397\":\"scott\",\"518452\":\"chad\",\"518489\":\"ryan\",\"518516\":\"madison\",\"518553\":\"steve\",\"518566\":\"taylor\",\"518617\":\"jake\",\"518633\":\"danny\",\"518693\":\"sam\",\"518715\":\"cory\",\"518748\":\"justin\",\"518774\":\"matt\",\"518813\":\"greg\",\"518858\":\"nate\",\"518875\":\"shawn\",\"518886\":\"craig\",\"519008\":\"t. j.\",\"519043\":\"matt\",\"519096\":\"dan\",\"519141\":\"drew\",\"519144\":\"rick\",\"519151\":\"ryan\",\"519166\":\"neil\",\"519242\":\"chris\",\"519293\":\"will\",\"519301\":\"sammy\",\"519326\":\"hunter\",\"519443\":\"brandon\",\"519455\":\"jordan\",\"520980\":\"pedro\",\"521230\":\"liam\",\"521655\":\"wilmer\",\"523260\":\"joe\",\"525768\":\"tim\",\"527048\":\"martin\",\"527054\":\"julio\",\"527055\":\"arodys\",\"532077\":\"roberto\",\"533167\":\"matt\",\"541640\":\"erasmo\",\"541652\":\"bruce\",\"542881\":\"tyler\",\"542882\":\"matt\",\"542947\":\"richard\",\"542960\":\"brad\",\"543001\":\"ryan\",\"543022\":\"tyler\",\"543031\":\"tyler\",\"543037\":\"gerrit\",\"543045\":\"adam\",\"543056\":\"danny\",\"543101\":\"anthony\",\"543118\":\"oliver\",\"543135\":\"nathan\",\"543169\":\"brian\",\"543208\":\"sam\",\"543219\":\"sean\",\"543243\":\"sonny\",\"543272\":\"brad\",\"543278\":\"blaine\",\"543294\":\"kyle\",\"543339\":\"daniel\",\"543359\":\"dan\",\"543391\":\"casey\",\"543475\":\"jordan\",\"543483\":\"matt\",\"543506\":\"brandon\",\"543507\":\"trevor\",\"543521\":\"collin\",\"543548\":\"tommy\",\"543557\":\"mike\",\"543606\":\"jake\",\"543699\":\"tanner\",\"543734\":\"chris\",\"543766\":\"bryan\",\"543883\":\"nick\",\"543935\":\"alex\",\"544727\":\"jeurys\",\"544928\":\"tyler\",\"544931\":\"stephen\",\"545333\":\"trevor\",\"547179\":\"michael\",\"547749\":\"junichi\",\"547888\":\"masahiro\",\"547943\":\"hyun-jin\",\"547973\":\"aroldis\",\"548389\":\"ross\",\"552640\":\"andrew\",\"553878\":\"felipe\",\"554340\":\"yimi\",\"554430\":\"zach\",\"570240\":\"felix\",\"570632\":\"jose\",\"570663\":\"hansel\",\"570666\":\"luis\",\"571035\":\"william\",\"571476\":\"chris\",\"571510\":\"matt\",\"571561\":\"tony\",\"571578\":\"patrick\",\"571656\":\"buck\",\"571666\":\"mike\",\"571670\":\"dylan\",\"571704\":\"ken\",\"571710\":\"mychal\",\"571760\":\"andrew\",\"571800\":\"drew\",\"571863\":\"matt\",\"571901\":\"aaron\",\"571927\":\"steven\",\"571945\":\"miles\",\"571946\":\"shelby\",\"571951\":\"bryan\",\"572020\":\"james\",\"572021\":\"james\",\"572044\":\"brooks\",\"572070\":\"garrett\",\"572140\":\"tyler\",\"572143\":\"burch\",\"572193\":\"ryan\",\"572362\":\"robbie\",\"572403\":\"drew\",\"572750\":\"eddie\",\"572888\":\"shane\",\"572955\":\"pierce\",\"572971\":\"dallas\",\"573064\":\"vidal\",\"573109\":\"aj\",\"573124\":\"taylor\",\"573185\":\"dan\",\"573186\":\"marcus\",\"573668\":\"juan\",\"584171\":\"hector\",\"591693\":\"edubray\",\"592094\":\"jason\",\"592102\":\"cody\",\"592130\":\"danny\",\"592135\":\"cam\",\"592145\":\"jesse\",\"592169\":\"austin\",\"592222\":\"alex\",\"592229\":\"dylan\",\"592314\":\"mike\",\"592332\":\"kevin\",\"592340\":\"erik\",\"592351\":\"jon\",\"592390\":\"heath\",\"592426\":\"luke\",\"592454\":\"tommy\",\"592468\":\"nick\",\"592473\":\"adam\",\"592499\":\"artie\",\"592547\":\"deck\",\"592644\":\"adam\",\"592662\":\"robbie\",\"592665\":\"addison\",\"592705\":\"nick\",\"592716\":\"adrian\",\"592717\":\"aaron\",\"592741\":\"chasen\",\"592761\":\"caleb\",\"592773\":\"ryne\",\"592779\":\"brock\",\"592789\":\"noah\",\"592791\":\"jameson\",\"592804\":\"tyler\",\"592811\":\"andrew\",\"592815\":\"sam\",\"592826\":\"vince\",\"592865\":\"taylor\",\"592866\":\"trevor\",\"593140\":\"michael\",\"593144\":\"richard\",\"593334\":\"domingo\",\"593372\":\"carlos\",\"593423\":\"frankie\",\"593576\":\"hector\",\"593833\":\"wander\",\"593958\":\"eduardo\",\"593974\":\"wandy\",\"594027\":\"tayron\",\"594577\":\"mike\",\"594798\":\"jacob\",\"594835\":\"marco\",\"594840\":\"matt\",\"594902\":\"ben\",\"594965\":\"daniel\",\"595014\":\"blake\",\"595465\":\"dan\",\"595918\":\"a. j.\",\"596001\":\"jakob\",\"596043\":\"daniel\",\"596057\":\"daniel\",\"596071\":\"dillon\",\"596074\":\"bobby\",\"596133\":\"luke\",\"596271\":\"casey\",\"596295\":\"austin\",\"596720\":\"dovydas\",\"598264\":\"matt\",\"598271\":\"brian\",\"598287\":\"noe\",\"599683\":\"warwick\",\"600917\":\"jose\",\"600968\":\"randy\",\"600986\":\"thyago\",\"601713\":\"nick\",\"605121\":\"justin\",\"605135\":\"chris\",\"605143\":\"ray\",\"605151\":\"archie\",\"605154\":\"john\",\"605164\":\"dylan\",\"605177\":\"andrew\",\"605182\":\"mike\",\"605195\":\"kyle\",\"605200\":\"zach\",\"605218\":\"carl\",\"605232\":\"brandon\",\"605240\":\"jace\",\"605242\":\"michael\",\"605254\":\"daniel\",\"605255\":\"brett\",\"605276\":\"david\",\"605280\":\"clay\",\"605301\":\"williams\",\"605309\":\"keone\",\"605347\":\"jorge\",\"605388\":\"adam\",\"605397\":\"joe\",\"605400\":\"aaron\",\"605441\":\"yacksel\",\"605446\":\"dereck\",\"605483\":\"blake\",\"605488\":\"jeffrey\",\"605498\":\"andrew\",\"605538\":\"matt\",\"605540\":\"brandon\",\"605541\":\"mike\",\"606131\":\"luis\",\"606162\":\"yefry\",\"606167\":\"adalberto\",\"606273\":\"roenis\",\"606424\":\"jarlin\",\"606478\":\"pedro\",\"606625\":\"reyes\",\"606930\":\"jacob\",\"606944\":\"cody\",\"606965\":\"chris\",\"607074\":\"carlos\",\"607188\":\"jake\",\"607192\":\"tyler\",\"607200\":\"erick\",\"607215\":\"eric\",\"607219\":\"sal\",\"607229\":\"robert\",\"607231\":\"john\",\"607237\":\"amir\",\"607352\":\"joe\",\"607374\":\"nick\",\"607457\":\"kyle\",\"607473\":\"chase\",\"607481\":\"aaron\",\"607536\":\"kyle\",\"607625\":\"seth\",\"607968\":\"drew\",\"608328\":\"chase\",\"608331\":\"max\",\"608334\":\"carson\",\"608337\":\"lucas\",\"608349\":\"corey\",\"608371\":\"lucas\",\"608379\":\"michael\",\"608566\":\"german\",\"608601\":\"luis\",\"608638\":\"j. t.\",\"608648\":\"tyler\",\"608652\":\"luke\",\"608665\":\"kendall\",\"608678\":\"dominic\",\"608716\":\"drew\",\"608717\":\"chris\",\"608718\":\"brent\",\"611093\":\"silvino\",\"612434\":\"miguel\",\"612672\":\"wei-yin\",\"620454\":\"jose\",\"621056\":\"hunter\",\"621107\":\"zach\",\"621111\":\"walker\",\"621112\":\"paul\",\"621121\":\"lance\",\"621141\":\"walker\",\"621199\":\"matthew\",\"621219\":\"alec\",\"621237\":\"jose\",\"621242\":\"edwin\",\"621244\":\"jose\",\"621261\":\"corey\",\"621289\":\"jaime\",\"621295\":\"nick\",\"621345\":\"a. j.\",\"621366\":\"ryan\",\"621381\":\"matt\",\"621385\":\"daniel\",\"621389\":\"ty\",\"621397\":\"tyler\",\"622072\":\"alex\",\"622097\":\"jake\",\"622098\":\"drew\",\"622161\":\"eduardo\",\"622259\":\"trey\",\"622382\":\"gabriel\",\"622446\":\"jefry\",\"622491\":\"luis\",\"622505\":\"victor\",\"622554\":\"seranthony\",\"622608\":\"antonio\",\"622663\":\"luis\",\"622694\":\"elieser\",\"622766\":\"miguel\",\"622772\":\"jimmy\",\"622795\":\"yohander\",\"622864\":\"fernando\",\"623149\":\"paul\",\"623184\":\"scott\",\"623352\":\"josh\",\"623381\":\"thomas\",\"623402\":\"tim\",\"623430\":\"ryan\",\"623451\":\"jackson\",\"624427\":\"stephen\",\"625643\":\"reynaldo\",\"627894\":\"luiz\",\"628317\":\"kenta\",\"628318\":\"kazuhisa\",\"628333\":\"odrisamer\",\"628452\":\"raisel\",\"630023\":\"yonny\",\"640455\":\"sean\",\"640464\":\"kohl\",\"641154\":\"pablo\",\"641341\":\"tyler\",\"641427\":\"alan\",\"641438\":\"shane\",\"641571\":\"heath\",\"641627\":\"trevor\",\"641712\":\"dakota\",\"641729\":\"joe\",\"641745\":\"brad\",\"641771\":\"chad\",\"641778\":\"eric\",\"641793\":\"zack\",\"641816\":\"tyler\",\"641835\":\"tim\",\"641838\":\"kevin\",\"641871\":\"keynan\",\"641941\":\"emilio\",\"642003\":\"cody\",\"642008\":\"jacob\",\"642098\":\"glenn\",\"642152\":\"lou\",\"642231\":\"jimmy\",\"642232\":\"ryan\",\"642528\":\"jonathan\",\"642545\":\"jaime\",\"642547\":\"freddy\",\"642558\":\"ariel\",\"642571\":\"merandy\",\"643230\":\"steven\",\"643256\":\"adam\",\"643316\":\"paul\",\"643327\":\"zack\",\"643338\":\"chad\",\"643354\":\"donnie\",\"643410\":\"mark\",\"643466\":\"harrison\",\"643493\":\"austin\",\"643617\":\"zac\",\"643778\":\"tyler\",\"644364\":\"victor\",\"645261\":\"sandy\",\"647336\":\"mike\",\"650828\":\"edgar\",\"650895\":\"diego\",\"656186\":\"dan\",\"656222\":\"jalen\",\"656257\":\"jeff\",\"656354\":\"austin\",\"656427\":\"jack\",\"656547\":\"jonathan\",\"656738\":\"ben\",\"656756\":\"jordan\",\"656794\":\"sean\",\"656798\":\"jacob\",\"656887\":\"sean\",\"656945\":\"tanner\",\"657053\":\"touki\",\"657205\":\"zac\",\"657571\":\"caleb\",\"657610\":\"trevor\",\"657612\":\"tim\",\"657624\":\"josh\",\"660271\":\"shohei\",\"660853\":\"enyel\",\"663855\":\"jordan\",\"664028\":\"brett\",\"664192\":\"joey\",\"664208\":\"phil\",\"664285\":\"framber\",\"664682\":\"ryan\",\"669203\":\"corbin\",\"669456\":\"shane\",\"670950\":\"trevor\",\"673633\":\"yoshihisa\"}}'"
      ]
     },
     "execution_count": 62,
     "metadata": {},
     "output_type": "execute_result"
    }
   ],
   "source": [
    "efp_s.rename(\"EFP\").to_frame().merge(pitcher_ids[[\"name_last\", \"name_first\", \"key_mlbam\"]], left_index=True, right_on=\"key_mlbam\").set_index(\"key_mlbam\", drop=True).to_json(orient=\"columns\")"
   ]
  },
  {
   "cell_type": "code",
   "execution_count": 17,
   "metadata": {},
   "outputs": [],
   "source": [
    "from pybaseball import playerid_lookup, playerid_reverse_lookup"
   ]
  },
  {
   "cell_type": "code",
   "execution_count": 18,
   "metadata": {},
   "outputs": [
    {
     "name": "stdout",
     "output_type": "stream",
     "text": [
      "Gathering player lookup table. This may take a moment.\n"
     ]
    },
    {
     "data": {
      "text/html": [
       "<div>\n",
       "<style scoped>\n",
       "    .dataframe tbody tr th:only-of-type {\n",
       "        vertical-align: middle;\n",
       "    }\n",
       "\n",
       "    .dataframe tbody tr th {\n",
       "        vertical-align: top;\n",
       "    }\n",
       "\n",
       "    .dataframe thead th {\n",
       "        text-align: right;\n",
       "    }\n",
       "</style>\n",
       "<table border=\"1\" class=\"dataframe\">\n",
       "  <thead>\n",
       "    <tr style=\"text-align: right;\">\n",
       "      <th></th>\n",
       "      <th>name_last</th>\n",
       "      <th>name_first</th>\n",
       "      <th>key_mlbam</th>\n",
       "      <th>key_retro</th>\n",
       "      <th>key_bbref</th>\n",
       "      <th>key_fangraphs</th>\n",
       "      <th>mlb_played_first</th>\n",
       "      <th>mlb_played_last</th>\n",
       "    </tr>\n",
       "  </thead>\n",
       "  <tbody>\n",
       "    <tr>\n",
       "      <th>0</th>\n",
       "      <td>astudillo</td>\n",
       "      <td>willians</td>\n",
       "      <td>553902</td>\n",
       "      <td>astuw001</td>\n",
       "      <td>astudwi01</td>\n",
       "      <td>15608</td>\n",
       "      <td>2018.0</td>\n",
       "      <td>2019.0</td>\n",
       "    </tr>\n",
       "  </tbody>\n",
       "</table>\n",
       "</div>"
      ],
      "text/plain": [
       "   name_last name_first  key_mlbam key_retro  key_bbref  key_fangraphs  \\\n",
       "0  astudillo   willians     553902  astuw001  astudwi01          15608   \n",
       "\n",
       "   mlb_played_first  mlb_played_last  \n",
       "0            2018.0           2019.0  "
      ]
     },
     "execution_count": 18,
     "metadata": {},
     "output_type": "execute_result"
    }
   ],
   "source": [
    "playerid_reverse_lookup([553902], key_type=\"mlbam\")"
   ]
  }
 ],
 "metadata": {
  "kernelspec": {
   "display_name": "Python 3",
   "language": "python",
   "name": "python3"
  },
  "language_info": {
   "codemirror_mode": {
    "name": "ipython",
    "version": 3
   },
   "file_extension": ".py",
   "mimetype": "text/x-python",
   "name": "python",
   "nbconvert_exporter": "python",
   "pygments_lexer": "ipython3",
   "version": "3.7.3"
  }
 },
 "nbformat": 4,
 "nbformat_minor": 2
}
