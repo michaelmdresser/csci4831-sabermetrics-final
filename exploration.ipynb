{
 "cells": [
  {
   "cell_type": "code",
   "execution_count": 1,
   "metadata": {},
   "outputs": [],
   "source": [
    "import pandas as pd"
   ]
  },
  {
   "cell_type": "code",
   "execution_count": 2,
   "metadata": {},
   "outputs": [],
   "source": [
    "statcast = pd.read_csv(\"data/pitches_2016_2018.csv\")"
   ]
  },
  {
   "cell_type": "code",
   "execution_count": 4,
   "metadata": {},
   "outputs": [],
   "source": [
    "statcast = statcast.loc[(statcast[\"game_date\"] < \"2019-01-01\") & (statcast[\"game_date\"] > \"2018-01-01\")]"
   ]
  },
  {
   "cell_type": "code",
   "execution_count": 6,
   "metadata": {},
   "outputs": [],
   "source": [
    "def get_obp_series(df):\n",
    "    return (df[\"H\"] + df[\"BB\"] + df[\"HBP\"]) / (df[\"AB\"] + df[\"BB\"] + df[\"HBP\"] + df[\"SF\"])\n",
    "\n",
    "def get_slg_series(df):\n",
    "    singles = df[\"H\"] - df[\"HR\"] - df[\"2B\"] - df[\"3B\"]\n",
    "    return (singles + 2*df[\"2B\"] + 3*df[\"3B\"] + 4*df[\"HR\"]) / df[\"AB\"]\n",
    "\n",
    "def get_ops_series(df):\n",
    "    return get_obp_series(df) + get_slg_series(df)\n",
    "\n",
    "def get_avg_series(df):\n",
    "    return (df[\"H\"]) / (df[\"AB\"])"
   ]
  },
  {
   "cell_type": "code",
   "execution_count": 26,
   "metadata": {},
   "outputs": [],
   "source": [
    "def get_pca5_series_pitcher(df):\n",
    "    pab = df.groupby([\"pitcher\", \"game_date\", \"batter\", \"inning\"]).size()\n",
    "    return pab.loc[pab > 5].to_frame().reset_index().groupby(\"pitcher\").size()"
   ]
  },
  {
   "cell_type": "code",
   "execution_count": 65,
   "metadata": {},
   "outputs": [],
   "source": [
    "def get_pca5_series_batter(df):\n",
    "    bab = df.groupby([\"batter\", \"game_date\", \"inning\"]).size()\n",
    "    return bab.loc[bab > 5].to_frame().reset_index().groupby(\"batter\").size()"
   ]
  },
  {
   "cell_type": "code",
   "execution_count": 60,
   "metadata": {},
   "outputs": [],
   "source": [
    "def get_bf(df):\n",
    "    return df.loc[df[\"events\"].notna()].groupby([\"pitcher\"]).size()"
   ]
  },
  {
   "cell_type": "code",
   "execution_count": 51,
   "metadata": {},
   "outputs": [],
   "source": [
    "# returns tuple (release_speed_mean, effective_speed_mean, pfx_x_mean, pfx_z_mean)\n",
    "def get_movement_series(df):\n",
    "    d = df.groupby(\"pitcher\").agg({\"release_speed\": \"mean\",\n",
    "                                 \"effective_speed\": \"mean\",\n",
    "                                 \"pfx_x\": \"mean\", \n",
    "                                 \"pfx_z\": \"mean\"}).abs().rename(index=str, columns={\"release_speed\": \"release_speed_mean\",\n",
    "                                                                 \"effective_speed\": \"effective_speed_mean\",\n",
    "                                                                 \"pfx_x\": \"pfx_x_mean\",\n",
    "                                                                 \"pfx_z\": \"pfx_z_mean\"})\n",
    "    return (d[\"release_speed_mean\"], d[\"effective_speed_mean\"], d[\"pfx_x_mean\"], d[\"pfx_z_mean\"])"
   ]
  },
  {
   "cell_type": "code",
   "execution_count": 77,
   "metadata": {},
   "outputs": [],
   "source": [
    "def get_event_series_pitcher(df, event):\n",
    "    return df.loc[(df[\"events\"] == event)].groupby(\"pitcher\").size()\n",
    "\n",
    "def get_event_series_batter(df, event):\n",
    "    return df.loc[(df[\"events\"] == event)].groupby(\"batter\").size()"
   ]
  },
  {
   "cell_type": "code",
   "execution_count": 91,
   "metadata": {},
   "outputs": [],
   "source": [
    "# this only estimates ip, it is not perfect\n",
    "def get_ip_series(df):\n",
    "    return df.groupby([\"pitcher\", \"game_date\"])[\"inning\"].nunique().to_frame().reset_index().groupby(\"pitcher\")[\"inning\"].sum()"
   ]
  },
  {
   "cell_type": "code",
   "execution_count": 99,
   "metadata": {},
   "outputs": [],
   "source": [
    "def get_whip_series(df):\n",
    "    walks = df.loc[(df[\"events\"] == \"walk\")].groupby(\"pitcher\").size()\n",
    "    hits = df.loc[(df[\"events\"] == \"single\") |\n",
    "                        (df[\"events\"] == \"double\") |\n",
    "                        (df[\"events\"] == \"triple\") |\n",
    "                        (df[\"events\"] == \"home_run\")].groupby(\"pitcher\").size()\n",
    "    stuff = pd.concat([get_ip_series(df), walks, hits], keys=[\"ip\", \"walks\", \"hits\"], axis=1)\n",
    "    return (stuff[\"walks\"] + stuff[\"hits\"]) / stuff[\"ip\"]"
   ]
  },
  {
   "cell_type": "code",
   "execution_count": 67,
   "metadata": {},
   "outputs": [],
   "source": [
    "def remove_infreq_pitchers(df):\n",
    "    bf = get_bf(df)\n",
    "    bf.loc[bf > 70].index\n",
    "\n",
    "    return df.loc[(df[\"pitcher\"].isin(bf.loc[bf > 70].index))]"
   ]
  },
  {
   "cell_type": "code",
   "execution_count": 103,
   "metadata": {},
   "outputs": [],
   "source": [
    "def make_pitcher_df(df):\n",
    "    df = remove_infreq_pitchers(df)\n",
    "    _, avg_speed, avg_x, avg_z = get_movement_series(statcast_p)\n",
    "    return pd.concat([get_event_series_pitcher(df, \"strikeout\"),\n",
    "                      get_event_series_pitcher(df, \"home_run\"),\n",
    "                      get_event_series_pitcher(df, \"walk\"), # I don't think we can do IBB\n",
    "                      get_pca5_series_pitcher(df),\n",
    "                      get_bf(df),\n",
    "                      get_whip_series(df),\n",
    "                      avg_speed,\n",
    "                      avg_x,\n",
    "                      avg_z\n",
    "                     ],\n",
    "                     keys=[\"SO\", \"HR\", \"BB\", \"PCA5\", \"BF\", \"WHIP\", \"avg_speed\", \"avg_x\", \"avg_z\"],\n",
    "                     axis=1)"
   ]
  },
  {
   "cell_type": "code",
   "execution_count": 105,
   "metadata": {},
   "outputs": [],
   "source": [
    "def make_efp_series(pitcher_df):\n",
    "    df = pitcher_df\n",
    "    # WE DON'T HAVE IBB, only BB\n",
    "    return (1.0*df[\"SO\"] - (0.5*df[\"PCA5\"] + 3.0*df[\"HR\"] + 3.0*df[\"BB\"])) / df[\"BF\"] - \\\n",
    "            1.0*df[\"WHIP\"] + 0.1*df[\"avg_z\"] + 0.1*df[\"avg_x\"] + 0.3*df[\"avg_speed\"]"
   ]
  },
  {
   "cell_type": "code",
   "execution_count": 115,
   "metadata": {},
   "outputs": [
    {
     "data": {
      "text/plain": [
       "pitcher\n",
       "663855.0    27.943128\n",
       "547973.0    27.886378\n",
       "621242.0    27.876568\n",
       "622554.0    27.760640\n",
       "453344.0    27.701912\n",
       "643338.0    27.604235\n",
       "448281.0    27.566962\n",
       "621237.0    27.554503\n",
       "595014.0    27.551103\n",
       "594027.0    27.440869\n",
       "594798.0    27.385340\n",
       "642152.0    27.315820\n",
       "623352.0    27.300859\n",
       "622259.0    27.163126\n",
       "607192.0    27.120136\n",
       "445276.0    27.102669\n",
       "518489.0    27.099703\n",
       "592789.0    27.075767\n",
       "592773.0    27.024761\n",
       "488984.0    26.956611\n",
       "641729.0    26.932500\n",
       "605151.0    26.932053\n",
       "621345.0    26.907919\n",
       "622772.0    26.898433\n",
       "520980.0    26.895929\n",
       "571710.0    26.886311\n",
       "572021.0    26.872022\n",
       "571561.0    26.870487\n",
       "554430.0    26.864035\n",
       "502083.0    26.840247\n",
       "              ...    \n",
       "657610.0    23.616710\n",
       "592811.0    23.607833\n",
       "446399.0    23.585023\n",
       "543548.0    23.540358\n",
       "621389.0    23.491989\n",
       "435043.0    23.483427\n",
       "493247.0    23.482703\n",
       "621397.0    23.451612\n",
       "460283.0    23.401049\n",
       "453281.0    23.255541\n",
       "446899.0    23.195517\n",
       "458708.0    23.189536\n",
       "450306.0    23.159886\n",
       "598271.0    23.140476\n",
       "643354.0    22.971082\n",
       "501957.0    22.958553\n",
       "462136.0    22.948945\n",
       "596071.0    22.915449\n",
       "543219.0    22.904382\n",
       "425794.0    22.877089\n",
       "489265.0    22.764873\n",
       "519141.0    22.591701\n",
       "592222.0    22.341218\n",
       "628318.0    21.786497\n",
       "453214.0    21.062187\n",
       "433586.0          NaN\n",
       "542947.0          NaN\n",
       "592473.0          NaN\n",
       "605177.0          NaN\n",
       "641712.0          NaN\n",
       "Length: 562, dtype: float64"
      ]
     },
     "execution_count": 115,
     "metadata": {},
     "output_type": "execute_result"
    }
   ],
   "source": [
    "make_efp_series(make_pitcher_df(statcast)).sort_values(ascending=False)"
   ]
  },
  {
   "cell_type": "code",
   "execution_count": 42,
   "metadata": {},
   "outputs": [],
   "source": [
    "from pybaseball import playerid_lookup, playerid_reverse_lookup"
   ]
  },
  {
   "cell_type": "code",
   "execution_count": 122,
   "metadata": {},
   "outputs": [
    {
     "name": "stdout",
     "output_type": "stream",
     "text": [
      "Gathering player lookup table. This may take a moment.\n"
     ]
    },
    {
     "data": {
      "text/html": [
       "<div>\n",
       "<style scoped>\n",
       "    .dataframe tbody tr th:only-of-type {\n",
       "        vertical-align: middle;\n",
       "    }\n",
       "\n",
       "    .dataframe tbody tr th {\n",
       "        vertical-align: top;\n",
       "    }\n",
       "\n",
       "    .dataframe thead th {\n",
       "        text-align: right;\n",
       "    }\n",
       "</style>\n",
       "<table border=\"1\" class=\"dataframe\">\n",
       "  <thead>\n",
       "    <tr style=\"text-align: right;\">\n",
       "      <th></th>\n",
       "      <th>name_last</th>\n",
       "      <th>name_first</th>\n",
       "      <th>key_mlbam</th>\n",
       "      <th>key_retro</th>\n",
       "      <th>key_bbref</th>\n",
       "      <th>key_fangraphs</th>\n",
       "      <th>mlb_played_first</th>\n",
       "      <th>mlb_played_last</th>\n",
       "    </tr>\n",
       "  </thead>\n",
       "  <tbody>\n",
       "    <tr>\n",
       "      <th>0</th>\n",
       "      <td>chapman</td>\n",
       "      <td>aroldis</td>\n",
       "      <td>547973</td>\n",
       "      <td>chapa001</td>\n",
       "      <td>chapmar01</td>\n",
       "      <td>10233</td>\n",
       "      <td>2010.0</td>\n",
       "      <td>2019.0</td>\n",
       "    </tr>\n",
       "  </tbody>\n",
       "</table>\n",
       "</div>"
      ],
      "text/plain": [
       "  name_last name_first  key_mlbam key_retro  key_bbref  key_fangraphs  \\\n",
       "0   chapman    aroldis     547973  chapa001  chapmar01          10233   \n",
       "\n",
       "   mlb_played_first  mlb_played_last  \n",
       "0            2010.0           2019.0  "
      ]
     },
     "execution_count": 122,
     "metadata": {},
     "output_type": "execute_result"
    }
   ],
   "source": [
    "playerid_reverse_lookup([547973.0], key_type=\"mlbam\")"
   ]
  }
 ],
 "metadata": {
  "kernelspec": {
   "display_name": "Python 3",
   "language": "python",
   "name": "python3"
  },
  "language_info": {
   "codemirror_mode": {
    "name": "ipython",
    "version": 3
   },
   "file_extension": ".py",
   "mimetype": "text/x-python",
   "name": "python",
   "nbconvert_exporter": "python",
   "pygments_lexer": "ipython3",
   "version": "3.7.3"
  }
 },
 "nbformat": 4,
 "nbformat_minor": 2
}
